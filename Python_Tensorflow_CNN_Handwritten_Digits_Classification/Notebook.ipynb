{
 "cells": [
  {
   "attachments": {},
   "cell_type": "markdown",
   "id": "5abbbe63",
   "metadata": {},
   "source": [
    "# 　　　　`Convolutional Neural Network` for Deep Learning\n",
    "# 　　　　　　　　on Handwritten Digits `Classification` Task"
   ]
  },
  {
   "attachments": {},
   "cell_type": "markdown",
   "id": "90c3cbb9",
   "metadata": {},
   "source": [
    "## Task Overview \n",
    "<img src=\"https://user-images.githubusercontent.com/68801296/88917938-4008f180-d286-11ea-8667-50027700e3ea.png\" width=\"500\">\n",
    "　　　　　　　　　　　　　　　　　　　　　　　　　　　　<strong>A Task Schema Diagram</strong>\n",
    "                                              "
   ]
  },
  {
   "attachments": {},
   "cell_type": "markdown",
   "id": "9883b4ba",
   "metadata": {},
   "source": [
    "## Setup Development Environment"
   ]
  },
  {
   "cell_type": "code",
   "execution_count": 3,
   "id": "a47d22f8",
   "metadata": {
    "scrolled": false
   },
   "outputs": [],
   "source": [
    "## Import related Modules for TensorFlow framework and Keras API\n",
    "\n",
    "import numpy as np\n",
    "import tensorflow as tf\n",
    "import keras\n",
    "\n",
    "from tensorflow.keras import layers, optimizers"
   ]
  },
  {
   "attachments": {},
   "cell_type": "markdown",
   "id": "5ec08005",
   "metadata": {},
   "source": [
    "## Prepare Dataset \n",
    "\n",
    "### The Image Dataset of MNIST Handwritten Digits - Introduction "
   ]
  },
  {
   "attachments": {},
   "cell_type": "markdown",
   "id": "7cca8177",
   "metadata": {},
   "source": [
    "### Load Dataset\n",
    "\n",
    "Load the MNIST dataset distributed with Keras.\n",
    "  "
   ]
  },
  {
   "cell_type": "code",
   "execution_count": 4,
   "id": "2a4ac2f1",
   "metadata": {},
   "outputs": [],
   "source": [
    "## Load the MNIST dataset \n",
    "mnist_dataset = keras.datasets.mnist\n",
    "\n",
    "## Split MNIST dataset to get the images and labels for both train and test sets \n",
    "(images_train, labels_train),(images_test, labels_test) = mnist_dataset.load_data()"
   ]
  },
  {
   "attachments": {},
   "cell_type": "markdown",
   "id": "a4fb690f",
   "metadata": {},
   "source": [
    "###  Explore Dataset"
   ]
  },
  {
   "attachments": {},
   "cell_type": "markdown",
   "id": "2f7093ad",
   "metadata": {},
   "source": [
    "##### Find out dimensions of the dataset\n"
   ]
  },
  {
   "cell_type": "code",
   "execution_count": 5,
   "id": "91a3909d",
   "metadata": {
    "scrolled": true
   },
   "outputs": [
    {
     "name": "stdout",
     "output_type": "stream",
     "text": [
      "Dimension of train dataset: \n",
      " (60000, 28, 28)\n",
      "Dimension of test dataset: \n",
      " (10000, 28, 28)\n"
     ]
    }
   ],
   "source": [
    "images_train_dimension = images_train.shape\n",
    "print(\"Dimension of train dataset: \\n\", images_train_dimension)\n",
    "\n",
    "images_test_dimension = images_test.shape\n",
    "print(\"Dimension of test dataset: \\n\", images_test_dimension)"
   ]
  },
  {
   "cell_type": "code",
   "execution_count": 6,
   "id": "61003758",
   "metadata": {},
   "outputs": [
    {
     "name": "stdout",
     "output_type": "stream",
     "text": [
      "Number of train images: \n",
      " 60000\n",
      "Dimension of an image: \n",
      " (28, 28)\n"
     ]
    }
   ],
   "source": [
    "print(\"Number of train images: \\n\", images_train_dimension[0])\n",
    "\n",
    "print(\"Dimension of an image: \\n\", images_train_dimension[1:3])"
   ]
  },
  {
   "attachments": {},
   "cell_type": "markdown",
   "id": "1e04cd62",
   "metadata": {},
   "source": [
    "##### Find out the range of pixel values in image"
   ]
  },
  {
   "cell_type": "code",
   "execution_count": 4,
   "id": "ee50e3fb",
   "metadata": {
    "scrolled": true
   },
   "outputs": [
    {
     "name": "stdout",
     "output_type": "stream",
     "text": [
      "The range of pixel values of the images is:  [0, 255]\n"
     ]
    }
   ],
   "source": [
    "##-Q5: What is the value range of all image pixels in the dataset?\n",
    "print( \"The range of pixel values of the images is: \", [np.min(images_train), np.max(images_train)] )  \n",
    " "
   ]
  },
  {
   "attachments": {},
   "cell_type": "markdown",
   "id": "59b9364a",
   "metadata": {},
   "source": [
    "##### Find out the value of labels and their frequencies  "
   ]
  },
  {
   "cell_type": "code",
   "execution_count": 22,
   "id": "277d4b7f",
   "metadata": {},
   "outputs": [
    {
     "name": "stdout",
     "output_type": "stream",
     "text": [
      "The unique values of the labels in the dataset are: \n",
      " [0 1 2 3 4 5 6 7 8 9]\n",
      "\n",
      "\n",
      "The count of each label in the dataset are: \n",
      " [5923 6742 5958 6131 5842 5421 5918 6265 5851 5949]\n"
     ]
    }
   ],
   "source": [
    "##-Q6: How many value of labels for the images in the dataset?\n",
    "(labels, counts) = np.unique(labels_train, return_counts=True)\n",
    "print( \"The unique values of the labels in the dataset are: \\n\", labels )\n",
    "print('\\n')\n",
    "print( \"The count of each label in the dataset are: \\n\", counts )"
   ]
  },
  {
   "attachments": {},
   "cell_type": "markdown",
   "id": "120360dd",
   "metadata": {},
   "source": [
    "##### Display a sample image \n",
    "get an idea of the kind of images your CNN is going to work with"
   ]
  },
  {
   "cell_type": "code",
   "execution_count": 41,
   "id": "fb0f2d2a",
   "metadata": {
    "scrolled": false
   },
   "outputs": [
    {
     "name": "stdout",
     "output_type": "stream",
     "text": [
      "The image of the 6th in train dataset is displayed below: \n",
      "\n",
      "The label for the second training image is: \n",
      " 2\n"
     ]
    },
    {
     "data": {
      "image/png": "[encoded data removed]",
      "text/plain": [
       "<Figure size 640x480 with 1 Axes>"
      ]
     },
     "metadata": {},
     "output_type": "display_data"
    }
   ],
   "source": [
    "## Display the 6th image from the train dataset \n",
    "\n",
    "idx_img = 5\n",
    "\n",
    "print(\"The image of the 6th in train dataset is displayed below: \\n\")\n",
    "\n",
    "## If encounter error message that says package matplotlib is not found, then install it by running code:  \n",
    "##    pip install matplotlib   \n",
    "\n",
    "# pip install matplotlib   \n",
    "import matplotlib.pyplot as plt\n",
    "\n",
    "plt.gray()   ## Set the colormap for showing the image as grayscale\n",
    "plt.imshow(images_train[idx_img])\n",
    "\n",
    "print(\"The label for the second training image is: \\n\", labels_train[idx_img])"
   ]
  },
  {
   "cell_type": "code",
   "execution_count": 9,
   "id": "1eb29880",
   "metadata": {},
   "outputs": [
    {
     "name": "stdout",
     "output_type": "stream",
     "text": [
      "The digit written in the 6th image is:  2\n"
     ]
    }
   ],
   "source": [
    "## Based on the returned results from executing above code to explore the sample image, answer in the Course Shell: \n",
    "\n",
    "print(\"The digit written in the 6th image is: \", labels_train[idx_img])"
   ]
  },
  {
   "attachments": {},
   "cell_type": "markdown",
   "id": "04bbc8b5",
   "metadata": {},
   "source": [
    "### Preprocess the data"
   ]
  },
  {
   "attachments": {},
   "cell_type": "markdown",
   "id": "69f084a6",
   "metadata": {},
   "source": [
    "Create some functions that can be used to process the dataset as demanded before feed it in to train the network parameters.  \n",
    "\n",
    "The tensor of shape of an image's dimension is more formally described as (image_height, image_width, color_channels) instead of just (image_height, image_width), where color_channels refers to (R,G,B). For example, for one color image that has 3 color channels, its dimension would be (image_height, image_width, 3) \n",
    "\n",
    "Since the MNIST dataset contains images all in grayscale, so we can explicitly express that in its dimension for model training, by reshaping and adding the number of channels.\n",
    "\n",
    "We also need to map the image pixel value range from its original to the range of 0 to 1 in the float32 type to facilitate the parameter computations.\n",
    "   "
   ]
  },
  {
   "cell_type": "code",
   "execution_count": 10,
   "id": "4dc1f5f4",
   "metadata": {},
   "outputs": [],
   "source": [
    "## Define a function that convert and rescale values of images and labels        \n",
    "\n",
    "def grayscale_converter(image, label):\n",
    "    \n",
    "    image = tf.cast(image, tf.float32)    ## Convert to enforce the values of image in floating-point number data type\n",
    "    label = tf.cast(label, tf.int64)      ## Convert to enforce the values of label in integer number data type\n",
    "    \n",
    "    image = image / 255  ## Rescale value of image pixels to a range of [0, 1] as gray level\n",
    "    \n",
    "    return image, label"
   ]
  },
  {
   "cell_type": "code",
   "execution_count": 11,
   "id": "8ca63f5c",
   "metadata": {},
   "outputs": [],
   "source": [
    "## Define a function that enforce the image color channel for grayscale image, \n",
    "##  and randomly sample the amount from preprocessed images and labels to prepare dataset that suit for the model        \n",
    "\n",
    "def preprocess_dataset(images, labels, count, batch_size):       \n",
    "    \n",
    "    ## Convert dimension of all images to enforce the grayscale of the dataset that has only one color channel\n",
    "    images_dimension = images.shape\n",
    "    images = images.reshape(images_dimension[0], images_dimension[1], images_dimension[2], 1)        \n",
    "     \n",
    "    ## Prepare dataset by packing randomly sampled and batched images and lables\n",
    "    dataset = tf.data.Dataset.from_tensor_slices((images, labels))    \n",
    "    dataset = dataset.map(grayscale_converter)    ## rescale images in dataset to a range of 0 to 1\n",
    "    dataset = dataset.take(count).shuffle(count).batch(batch_size)  ## randomly sample and batch the dataset\n",
    "    \n",
    "    return dataset\n"
   ]
  },
  {
   "attachments": {},
   "cell_type": "markdown",
   "id": "94e708e9",
   "metadata": {},
   "source": [
    "# Build a new Model"
   ]
  },
  {
   "attachments": {},
   "cell_type": "markdown",
   "id": "2bef49ed",
   "metadata": {},
   "source": [
    "##### Stack and Configure layers"
   ]
  },
  {
   "cell_type": "code",
   "execution_count": 17,
   "id": "361e5770",
   "metadata": {},
   "outputs": [
    {
     "name": "stdout",
     "output_type": "stream",
     "text": [
      "Metal device set to: Apple M1 Pro\n",
      "\n",
      "systemMemory: 16.00 GB\n",
      "maxCacheSize: 5.33 GB\n",
      "\n"
     ]
    }
   ],
   "source": [
    "# Build a tf.keras.Sequential model by stacking layers\n",
    "\n",
    "model = keras.Sequential([     \n",
    "    \n",
    "    ## A Convolutional layer that \n",
    "    ##   receive image input with tensors of shape (image_height, image_width, color_channels), \n",
    "    ##   has 32 filters, \n",
    "    ##   5 X 5 as the kernel size, \n",
    "    ##   relu as the activation function, and \n",
    "    ##   padding with zeros evenly to the surroundings of the input. \n",
    "    \n",
    "    layers.Conv2D(32, kernel_size=(5, 5), input_shape=(28, 28, 1), activation='relu', padding='same') , \n",
    "    \n",
    "        \n",
    "    ## A Max Pooling layer that has pooling window size and stride step both as 2\n",
    "    \n",
    "    layers.MaxPool2D(pool_size=2, strides=2),    \n",
    "    \n",
    "    ## A Convolutional layer that has * 64 filters *, relu as the activation function, and padding to let output have the same size as the input.\n",
    "    layers.Conv2D(64, (5, 5), activation='relu', padding='same'),\n",
    "    \n",
    "    ## A Max Pooling layer that has pooling window size and stride step both as 2\n",
    "    layers.MaxPool2D(pool_size=2, strides=2) ,\n",
    "    \n",
    "    ## A Flatten layer to flatten the input\n",
    "    layers.Flatten(),         \n",
    "\n",
    "    ## A fully connected layer with 128 neurons and an activation function of tanh \n",
    "    layers.Dense(128, activation='tanh'),  \n",
    "    ##-Q14: What is the number of output after applying above densely connected layer?    \n",
    "    \n",
    "    ## A fully connected layer with an activation function of Softmax that can output probability distribution for multiclass from 0 to 9\n",
    "    layers.Dense(10, activation='softmax')  \n",
    "\n",
    "])\n"
   ]
  },
  {
   "attachments": {},
   "cell_type": "markdown",
   "id": "09b2fcb3",
   "metadata": {},
   "source": [
    "##### Display the architecture of your model "
   ]
  },
  {
   "cell_type": "code",
   "execution_count": 18,
   "id": "f99b7808",
   "metadata": {
    "scrolled": false
   },
   "outputs": [
    {
     "name": "stdout",
     "output_type": "stream",
     "text": [
      "Model: \"sequential\"\n",
      "_________________________________________________________________\n",
      " Layer (type)                Output Shape              Param #   \n",
      "=================================================================\n",
      " conv2d_4 (Conv2D)           (None, 28, 28, 32)        832       \n",
      "                                                                 \n",
      " max_pooling2d_2 (MaxPooling  (None, 14, 14, 32)       0         \n",
      " 2D)                                                             \n",
      "                                                                 \n",
      " conv2d_5 (Conv2D)           (None, 14, 14, 64)        51264     \n",
      "                                                                 \n",
      " max_pooling2d_3 (MaxPooling  (None, 7, 7, 64)         0         \n",
      " 2D)                                                             \n",
      "                                                                 \n",
      " flatten (Flatten)           (None, 3136)              0         \n",
      "                                                                 \n",
      " dense (Dense)               (None, 128)               401536    \n",
      "                                                                 \n",
      " dense_1 (Dense)             (None, 10)                1290      \n",
      "                                                                 \n",
      "=================================================================\n",
      "Total params: 454,922\n",
      "Trainable params: 454,922\n",
      "Non-trainable params: 0\n",
      "_________________________________________________________________\n"
     ]
    }
   ],
   "source": [
    "## You can use the following code to have a summary description on the architecture of the CNN model you build. \n",
    "model.summary()"
   ]
  },
  {
   "attachments": {},
   "cell_type": "markdown",
   "id": "783e6851",
   "metadata": {},
   "source": [
    "##### Compile the model\n",
    "\n",
    "Before the model is ready for training, it needs a few more settings. These are to be added during the [model's compiling](https://www.tensorflow.org/api_docs/python/tf/keras/Model) step:\n",
    "\n",
    "- [Optimizer](https://www.tensorflow.org/api_docs/python/tf/keras/optimizers) : This is how the model is updated based on the data it sees and its loss function.\n",
    "- [Loss function](https://www.tensorflow.org/api_docs/python/tf/keras/losses) : This measures how accurate the model is during training. You want to minimize this function to \"steer\" the model in the right direction.\n",
    "- [Metrics](https://www.tensorflow.org/api_docs/python/tf/keras/metrics) : Used to monitor the training and testing steps.  "
   ]
  },
  {
   "cell_type": "code",
   "execution_count": 30,
   "id": "b6fb8782",
   "metadata": {},
   "outputs": [
    {
     "name": "stderr",
     "output_type": "stream",
     "text": [
      "WARNING:absl:At this time, the v2.11+ optimizer `tf.keras.optimizers.Adam` runs slowly on M1/M2 Macs, please use the legacy Keras optimizer instead, located at `tf.keras.optimizers.legacy.Adam`.\n",
      "WARNING:absl:There is a known slowdown when using v2.11+ Keras optimizers on M1/M2 Macs. Falling back to the legacy Keras optimizer, i.e., `tf.keras.optimizers.legacy.Adam`.\n"
     ]
    }
   ],
   "source": [
    "## Select an optimizer that implements the Adam algorithm, and validate to decide a proper learning rate for your model \n",
    "my_optimizer = optimizers.Adam(learning_rate=0.001)\n",
    "\n",
    "model.compile(\n",
    "    optimizer=my_optimizer,\n",
    "    loss=keras.losses.sparse_categorical_crossentropy,\n",
    "    metrics=['accuracy', 'mse']\n",
    ")"
   ]
  },
  {
   "attachments": {},
   "cell_type": "markdown",
   "id": "567e3703",
   "metadata": {},
   "source": [
    "## Fit/Train the model\n",
    "\n",
    "Train the model to fit the train dataset"
   ]
  },
  {
   "attachments": {},
   "cell_type": "markdown",
   "id": "3e029773",
   "metadata": {},
   "source": [
    "##### Obtain train dataset\n",
    "\n",
    "Apply the function previously defined for dataset preprocessing \n",
    "\n",
    "to Randomly sample 20,000 images and labels form the default train dataset "
   ]
  },
  {
   "cell_type": "code",
   "execution_count": 31,
   "id": "6f146eec",
   "metadata": {},
   "outputs": [],
   "source": [
    "## set required number of samples to be randomly taken from the original train dataset\n",
    "train_sample_count = 20000\n",
    "\n",
    "train_batch_size = 100\n",
    " \n",
    "## Obtain the train dataset prepared using previously defined function\n",
    "dataset_train = preprocess_dataset(images_train, labels_train, train_sample_count, train_batch_size)      "
   ]
  },
  {
   "attachments": {},
   "cell_type": "markdown",
   "id": "10273401",
   "metadata": {},
   "source": [
    "##### Train your model\n",
    "Feed the train dataset to the model and let it  [fit to associate images and labels](https://www.tensorflow.org/api_docs/python/tf/keras/Model)  "
   ]
  },
  {
   "cell_type": "code",
   "execution_count": 32,
   "id": "3f0d2fa6",
   "metadata": {
    "scrolled": false
   },
   "outputs": [
    {
     "name": "stdout",
     "output_type": "stream",
     "text": [
      "Epoch 1/15\n",
      "200/200 [==============================] - 4s 16ms/step - loss: 0.0882 - accuracy: 0.9732 - mse: 27.3981\n",
      "Epoch 2/15\n",
      "200/200 [==============================] - 3s 16ms/step - loss: 0.0891 - accuracy: 0.9729 - mse: 27.3982\n",
      "Epoch 3/15\n",
      "200/200 [==============================] - 3s 16ms/step - loss: 0.0848 - accuracy: 0.9754 - mse: 27.3981\n",
      "Epoch 4/15\n",
      "200/200 [==============================] - 3s 16ms/step - loss: 0.0844 - accuracy: 0.9739 - mse: 27.3982\n",
      "Epoch 5/15\n",
      "200/200 [==============================] - 3s 15ms/step - loss: 0.0836 - accuracy: 0.9736 - mse: 27.3981\n",
      "Epoch 6/15\n",
      "200/200 [==============================] - 3s 16ms/step - loss: 0.0838 - accuracy: 0.9747 - mse: 27.3983\n",
      "Epoch 7/15\n",
      "200/200 [==============================] - 3s 15ms/step - loss: 0.0816 - accuracy: 0.9755 - mse: 27.3984\n",
      "Epoch 8/15\n",
      "200/200 [==============================] - 3s 16ms/step - loss: 0.0767 - accuracy: 0.9761 - mse: 27.3987\n",
      "Epoch 9/15\n",
      "200/200 [==============================] - 3s 16ms/step - loss: 0.0774 - accuracy: 0.9761 - mse: 27.3988\n",
      "Epoch 10/15\n",
      "200/200 [==============================] - 3s 16ms/step - loss: 0.0744 - accuracy: 0.9780 - mse: 27.3986\n",
      "Epoch 11/15\n",
      "200/200 [==============================] - 3s 15ms/step - loss: 0.0707 - accuracy: 0.9790 - mse: 27.3987\n",
      "Epoch 12/15\n",
      "200/200 [==============================] - 3s 16ms/step - loss: 0.0699 - accuracy: 0.9795 - mse: 27.3988\n",
      "Epoch 13/15\n",
      "200/200 [==============================] - 3s 16ms/step - loss: 0.0685 - accuracy: 0.9801 - mse: 27.3989\n",
      "Epoch 14/15\n",
      "200/200 [==============================] - 4s 16ms/step - loss: 0.0692 - accuracy: 0.9796 - mse: 27.3989\n",
      "Epoch 15/15\n",
      "200/200 [==============================] - 3s 16ms/step - loss: 0.0669 - accuracy: 0.9794 - mse: 27.3989\n"
     ]
    },
    {
     "data": {
      "text/plain": [
       "<keras.callbacks.History at 0x28a48beb0>"
      ]
     },
     "execution_count": 32,
     "metadata": {},
     "output_type": "execute_result"
    }
   ],
   "source": [
    "\n",
    "epochs_count = 15\n",
    "## Train model\n",
    "model.fit(dataset_train, epochs=epochs_count)"
   ]
  },
  {
   "attachments": {},
   "cell_type": "markdown",
   "id": "832515a4",
   "metadata": {},
   "source": [
    "## Tuning your Model\n",
    "\n",
    "Go back to adjust the values of hyperparameters such as `learning rate`, `batch size`, and `epochs` in your aboce codes, to improve and achieve an **accuracy more than 97%**"
   ]
  },
  {
   "attachments": {},
   "cell_type": "markdown",
   "id": "40874051",
   "metadata": {},
   "source": [
    "## Evaluate/Test the trained model\n",
    "\n",
    "Evaluates your trained model based on the test dataset to see how the model performs on the test dataset after being trained to reach a good looking accuracy."
   ]
  },
  {
   "attachments": {},
   "cell_type": "markdown",
   "id": "accc735f",
   "metadata": {},
   "source": [
    "##### Obtain test dataset\n",
    "\n",
    "Apply the function previously defined for dataset preprocessing \n",
    "\n",
    "to randomly sample ALL number of images and labels form the `Original test dataset`"
   ]
  },
  {
   "cell_type": "code",
   "execution_count": 33,
   "id": "162ef7a3",
   "metadata": {},
   "outputs": [],
   "source": [
    "## Set required number of samples to be randomly taken from the original test dataset\n",
    "test_sample_count = 10000\n",
    "\n",
    "## Obtain the test dataset prepared using previously defined function\n",
    "dataset_test = preprocess_dataset(images_test, labels_test, test_sample_count, test_sample_count)   "
   ]
  },
  {
   "attachments": {},
   "cell_type": "markdown",
   "id": "d2f3c728",
   "metadata": {},
   "source": [
    "##### evaluate your trained model\n",
    "Feed the obtained test dataset to the model and   [evaluate the accuracy](https://www.tensorflow.org/api_docs/python/tf/keras/Model)   on the test dataset "
   ]
  },
  {
   "cell_type": "code",
   "execution_count": 46,
   "id": "ce608f93",
   "metadata": {
    "scrolled": true
   },
   "outputs": [
    {
     "name": "stdout",
     "output_type": "stream",
     "text": [
      "1/1 [==============================] - 1s 990ms/step - loss: 0.0811 - accuracy: 0.9747 - mse: 27.3378\n"
     ]
    },
    {
     "data": {
      "text/plain": [
       "[0.08111119270324707, 0.9746999740600586, 27.33778190612793]"
      ]
     },
     "execution_count": 46,
     "metadata": {},
     "output_type": "execute_result"
    }
   ],
   "source": [
    "## Evaluate model\n",
    "model.evaluate(dataset_test)"
   ]
  },
  {
   "attachments": {},
   "cell_type": "markdown",
   "id": "1999f6f6",
   "metadata": {},
   "source": [
    "## Make prediction "
   ]
  },
  {
   "attachments": {},
   "cell_type": "markdown",
   "id": "69d1a9c8",
   "metadata": {},
   "source": [
    "Pick one image from the MNIST dataset to see what digit your trained model predict, as it being classified to which of the 10 classes (0 to 9)."
   ]
  },
  {
   "cell_type": "code",
   "execution_count": 35,
   "id": "ade29557",
   "metadata": {},
   "outputs": [],
   "source": [
    "## Pick the 2nd image from the original test images to feed into the trained model\n",
    "\n",
    "idx_img_predict = 1\n",
    "    \n",
    "image_predict = images_test[idx_img_predict]"
   ]
  },
  {
   "attachments": {},
   "cell_type": "markdown",
   "id": "516a2136",
   "metadata": {},
   "source": [
    "Preporcess the picked image with the same procedure applied on train images"
   ]
  },
  {
   "cell_type": "code",
   "execution_count": 36,
   "id": "3ad198f4",
   "metadata": {},
   "outputs": [],
   "source": [
    "## Convert image dimension to explicitly indicate it has only one sample and only one color channel\n",
    "image_predict = image_predict.reshape((1,) + image_predict.shape + (1,)) \n",
    "\n",
    "## Convert image pixel values to floating-point number and rescale to [0,1]\n",
    "image_predict = tf.cast(image_predict, tf.float32) / 255    \n"
   ]
  },
  {
   "attachments": {},
   "cell_type": "markdown",
   "id": "918df7f8",
   "metadata": {},
   "source": [
    "Feed the preprocessed image to the trained model to   [predict a result](https://www.tensorflow.org/api_docs/python/tf/keras/Model). "
   ]
  },
  {
   "cell_type": "code",
   "execution_count": 37,
   "id": "cb200401",
   "metadata": {},
   "outputs": [
    {
     "name": "stdout",
     "output_type": "stream",
     "text": [
      "1/1 [==============================] - 1s 626ms/step\n",
      "prediction result is: \n",
      " [[1.5925492e-06 2.0086480e-05 9.9997282e-01 4.3866055e-10 4.5734003e-12\n",
      "  9.7868783e-13 2.0403340e-07 4.0409920e-10 5.2571245e-06 5.4704005e-11]]\n"
     ]
    }
   ],
   "source": [
    "## Predict on the picked image \n",
    "prediction = model.predict(image_predict)\n",
    "##-Q25: What is the function name to fill in the ??? in the above code? \n",
    "\n",
    "print(\"prediction result is: \\n\", prediction)"
   ]
  },
  {
   "attachments": {},
   "cell_type": "markdown",
   "id": "eac529ad",
   "metadata": {},
   "source": [
    "[Interpret](https://numpy.org/doc/stable/reference/generated/numpy.argmax.html) the prediction by processing the multiclass result "
   ]
  },
  {
   "cell_type": "code",
   "execution_count": 38,
   "id": "90d3b193",
   "metadata": {},
   "outputs": [
    {
     "name": "stdout",
     "output_type": "stream",
     "text": [
      "The predicted digit number from this image is: \n",
      " 2\n"
     ]
    }
   ],
   "source": [
    "## Interpret the output from the Softmax activation function of the model to see what digit is predicted by your model \n",
    "print(\"The predicted digit number from this image is: \\n\", np.argmax(prediction))\n",
    "##-Q26: What is the function name to fill in the ??? in the above code? \n",
    "##      (hint, find the index that representing the class which has the highest predicted probability)"
   ]
  },
  {
   "attachments": {},
   "cell_type": "markdown",
   "id": "c4ca5618",
   "metadata": {},
   "source": [
    "##### Compare the prediction with the provided data\n",
    "\n",
    "Display the picked image of prediction to have a visual comparison "
   ]
  },
  {
   "cell_type": "code",
   "execution_count": 39,
   "id": "8e8ce62b",
   "metadata": {},
   "outputs": [
    {
     "data": {
      "text/plain": [
       "<matplotlib.image.AxesImage at 0x2c455cc10>"
      ]
     },
     "execution_count": 39,
     "metadata": {},
     "output_type": "execute_result"
    },
    {
     "data": {
      "image/png": "[encoded data removed]",
      "text/plain": [
       "<Figure size 640x480 with 1 Axes>"
      ]
     },
     "metadata": {},
     "output_type": "display_data"
    }
   ],
   "source": [
    "## Display the 2nd image from the original test images  \n",
    "plt.imshow(images_test[idx_img_predict])"
   ]
  },
  {
   "attachments": {},
   "cell_type": "markdown",
   "id": "9c22c298",
   "metadata": {},
   "source": [
    "Compare the provided label from MNIST dataset associated with this image of prediction."
   ]
  },
  {
   "cell_type": "code",
   "execution_count": 40,
   "id": "e21b49b6",
   "metadata": {},
   "outputs": [
    {
     "name": "stdout",
     "output_type": "stream",
     "text": [
      "The provided label for this image is: \n",
      " 2\n"
     ]
    }
   ],
   "source": [
    "print(\"The provided label for this image is: \\n\", labels_test[idx_img_predict])"
   ]
  }
 ],
 "metadata": {
  "kernelspec": {
   "display_name": "Python 3 (ipykernel)",
   "language": "python",
   "name": "python3"
  },
  "language_info": {
   "codemirror_mode": {
    "name": "ipython",
    "version": 3
   },
   "file_extension": ".py",
   "mimetype": "text/x-python",
   "name": "python",
   "nbconvert_exporter": "python",
   "pygments_lexer": "ipython3",
   "version": "3.10.10"
  }
 },
 "nbformat": 4,
 "nbformat_minor": 5
}
