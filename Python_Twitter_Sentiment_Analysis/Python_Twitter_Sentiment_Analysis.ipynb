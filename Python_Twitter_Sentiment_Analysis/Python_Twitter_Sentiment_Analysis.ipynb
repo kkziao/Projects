{
 "cells": [
  {
   "attachments": {},
   "cell_type": "markdown",
   "metadata": {
    "datalore": {
     "hide_input_from_viewers": false,
     "hide_output_from_viewers": false,
     "type": "MD"
    }
   },
   "source": [
    "# Twitter Sentiment Analysis\n",
    "\n",
    "#### Ziao You"
   ]
  },
  {
   "cell_type": "code",
   "execution_count": 1,
   "metadata": {
    "datalore": {
     "hide_input_from_viewers": false,
     "hide_output_from_viewers": false,
     "type": "CODE"
    }
   },
   "outputs": [],
   "source": [
    "import pandas as pd\n",
    "import matplotlib.pyplot as plt"
   ]
  },
  {
   "cell_type": "code",
   "execution_count": 2,
   "metadata": {},
   "outputs": [
    {
     "data": {
      "text/html": [
       "<div>\n",
       "<style scoped>\n",
       "    .dataframe tbody tr th:only-of-type {\n",
       "        vertical-align: middle;\n",
       "    }\n",
       "\n",
       "    .dataframe tbody tr th {\n",
       "        vertical-align: top;\n",
       "    }\n",
       "\n",
       "    .dataframe thead th {\n",
       "        text-align: right;\n",
       "    }\n",
       "</style>\n",
       "<table border=\"1\" class=\"dataframe\">\n",
       "  <thead>\n",
       "    <tr style=\"text-align: right;\">\n",
       "      <th></th>\n",
       "      <th>user_id</th>\n",
       "      <th>created_at</th>\n",
       "      <th>text</th>\n",
       "      <th>is_quote</th>\n",
       "      <th>is_retweet</th>\n",
       "      <th>retweet_text</th>\n",
       "      <th>retweet_created_at</th>\n",
       "      <th>lang</th>\n",
       "    </tr>\n",
       "  </thead>\n",
       "  <tbody>\n",
       "    <tr>\n",
       "      <th>0</th>\n",
       "      <td>1258001900160548865</td>\n",
       "      <td>2022-07-04T18:03:56Z</td>\n",
       "      <td>Nancy Wheeler in every episode of #StrangerThi...</td>\n",
       "      <td>False</td>\n",
       "      <td>True</td>\n",
       "      <td>Nancy Wheeler in every episode of #StrangerThi...</td>\n",
       "      <td>2022-07-03T05:31:05Z</td>\n",
       "      <td>en</td>\n",
       "    </tr>\n",
       "    <tr>\n",
       "      <th>1</th>\n",
       "      <td>701152854489243653</td>\n",
       "      <td>2022-07-04T18:03:55Z</td>\n",
       "      <td>i cannot do this rn\\n#StrangerThings https://t...</td>\n",
       "      <td>False</td>\n",
       "      <td>True</td>\n",
       "      <td>i cannot do this rn\\n#StrangerThings https://t...</td>\n",
       "      <td>2022-07-02T23:31:03Z</td>\n",
       "      <td>en</td>\n",
       "    </tr>\n",
       "    <tr>\n",
       "      <th>2</th>\n",
       "      <td>2527761363</td>\n",
       "      <td>2022-07-04T18:03:55Z</td>\n",
       "      <td>3 years ago today, #StrangerThings Season 3 wa...</td>\n",
       "      <td>False</td>\n",
       "      <td>True</td>\n",
       "      <td>3 years ago today, #StrangerThings Season 3 wa...</td>\n",
       "      <td>2022-07-04T12:50:04Z</td>\n",
       "      <td>en</td>\n",
       "    </tr>\n",
       "    <tr>\n",
       "      <th>3</th>\n",
       "      <td>1086492588213858304</td>\n",
       "      <td>2022-07-04T17:58:51Z</td>\n",
       "      <td>speedpainting to 80s music #StrangerThings htt...</td>\n",
       "      <td>False</td>\n",
       "      <td>True</td>\n",
       "      <td>speedpainting to 80s music #StrangerThings htt...</td>\n",
       "      <td>2022-07-04T17:46:10Z</td>\n",
       "      <td>en</td>\n",
       "    </tr>\n",
       "    <tr>\n",
       "      <th>4</th>\n",
       "      <td>1086492588213858304</td>\n",
       "      <td>2022-07-04T18:02:16Z</td>\n",
       "      <td>The most iconic scenes of #StrangerThings4 #St...</td>\n",
       "      <td>False</td>\n",
       "      <td>True</td>\n",
       "      <td>The most iconic scenes of #StrangerThings4 #St...</td>\n",
       "      <td>2022-07-03T06:25:35Z</td>\n",
       "      <td>en</td>\n",
       "    </tr>\n",
       "  </tbody>\n",
       "</table>\n",
       "</div>"
      ],
      "text/plain": [
       "               user_id            created_at  \\\n",
       "0  1258001900160548865  2022-07-04T18:03:56Z   \n",
       "1   701152854489243653  2022-07-04T18:03:55Z   \n",
       "2           2527761363  2022-07-04T18:03:55Z   \n",
       "3  1086492588213858304  2022-07-04T17:58:51Z   \n",
       "4  1086492588213858304  2022-07-04T18:02:16Z   \n",
       "\n",
       "                                                text  is_quote  is_retweet  \\\n",
       "0  Nancy Wheeler in every episode of #StrangerThi...     False        True   \n",
       "1  i cannot do this rn\\n#StrangerThings https://t...     False        True   \n",
       "2  3 years ago today, #StrangerThings Season 3 wa...     False        True   \n",
       "3  speedpainting to 80s music #StrangerThings htt...     False        True   \n",
       "4  The most iconic scenes of #StrangerThings4 #St...     False        True   \n",
       "\n",
       "                                        retweet_text    retweet_created_at  \\\n",
       "0  Nancy Wheeler in every episode of #StrangerThi...  2022-07-03T05:31:05Z   \n",
       "1  i cannot do this rn\\n#StrangerThings https://t...  2022-07-02T23:31:03Z   \n",
       "2  3 years ago today, #StrangerThings Season 3 wa...  2022-07-04T12:50:04Z   \n",
       "3  speedpainting to 80s music #StrangerThings htt...  2022-07-04T17:46:10Z   \n",
       "4  The most iconic scenes of #StrangerThings4 #St...  2022-07-03T06:25:35Z   \n",
       "\n",
       "  lang  \n",
       "0   en  \n",
       "1   en  \n",
       "2   en  \n",
       "3   en  \n",
       "4   en  "
      ]
     },
     "execution_count": 2,
     "metadata": {},
     "output_type": "execute_result"
    }
   ],
   "source": [
    "df = pd.read_csv('Strange_Tweets.csv')\n",
    "df.head()"
   ]
  },
  {
   "attachments": {},
   "cell_type": "markdown",
   "metadata": {
    "datalore": {
     "hide_input_from_viewers": false,
     "hide_output_from_viewers": false,
     "type": "MD"
    }
   },
   "source": [
    "## 1. Data exploration"
   ]
  },
  {
   "cell_type": "code",
   "execution_count": 3,
   "metadata": {},
   "outputs": [
    {
     "name": "stdout",
     "output_type": "stream",
     "text": [
      "<class 'pandas.core.frame.DataFrame'>\n",
      "RangeIndex: 3281 entries, 0 to 3280\n",
      "Data columns (total 8 columns):\n",
      " #   Column              Non-Null Count  Dtype \n",
      "---  ------              --------------  ----- \n",
      " 0   user_id             3281 non-null   int64 \n",
      " 1   created_at          3281 non-null   object\n",
      " 2   text                3281 non-null   object\n",
      " 3   is_quote            3281 non-null   bool  \n",
      " 4   is_retweet          3281 non-null   bool  \n",
      " 5   retweet_text        2797 non-null   object\n",
      " 6   retweet_created_at  2797 non-null   object\n",
      " 7   lang                3281 non-null   object\n",
      "dtypes: bool(2), int64(1), object(5)\n",
      "memory usage: 160.3+ KB\n"
     ]
    }
   ],
   "source": [
    "df.info()"
   ]
  },
  {
   "cell_type": "code",
   "execution_count": 4,
   "metadata": {},
   "outputs": [
    {
     "name": "stdout",
     "output_type": "stream",
     "text": [
      "Dataset length:  3281\n",
      "Dataset feature numbers:  8\n"
     ]
    }
   ],
   "source": [
    "print('Dataset length: ', df.shape[0])\n",
    "print('Dataset feature numbers: ', df.shape[1])\n"
   ]
  },
  {
   "cell_type": "code",
   "execution_count": 5,
   "metadata": {},
   "outputs": [
    {
     "data": {
      "text/plain": [
       "en    3281\n",
       "Name: lang, dtype: int64"
      ]
     },
     "execution_count": 5,
     "metadata": {},
     "output_type": "execute_result"
    }
   ],
   "source": [
    "# The tweets language distribution\n",
    "df['lang'].value_counts()"
   ]
  },
  {
   "cell_type": "code",
   "execution_count": 6,
   "metadata": {},
   "outputs": [
    {
     "data": {
      "text/plain": [
       "0      2022-07-03 05:31:05+00:00\n",
       "1      2022-07-02 23:31:03+00:00\n",
       "2      2022-07-04 12:50:04+00:00\n",
       "3      2022-07-04 17:46:10+00:00\n",
       "4      2022-07-03 06:25:35+00:00\n",
       "                  ...           \n",
       "3276   2022-07-03 20:20:50+00:00\n",
       "3277   2022-07-03 23:08:47+00:00\n",
       "3278                         NaT\n",
       "3279                         NaT\n",
       "3280   2022-07-03 13:25:49+00:00\n",
       "Name: retweet_created_at, Length: 3281, dtype: datetime64[ns, UTC]"
      ]
     },
     "execution_count": 6,
     "metadata": {},
     "output_type": "execute_result"
    }
   ],
   "source": [
    "df['retweet_created_at'] = pd.to_datetime(df['retweet_created_at'])\n",
    "df['retweet_created_at']"
   ]
  },
  {
   "cell_type": "code",
   "execution_count": 7,
   "metadata": {},
   "outputs": [
    {
     "data": {
      "text/plain": [
       "Timestamp('2022-05-25 15:22:09+0000', tz='UTC')"
      ]
     },
     "execution_count": 7,
     "metadata": {},
     "output_type": "execute_result"
    }
   ],
   "source": [
    "df['retweet_created_at'].min()"
   ]
  },
  {
   "cell_type": "code",
   "execution_count": 8,
   "metadata": {
    "datalore": {
     "hide_input_from_viewers": false,
     "hide_output_from_viewers": false,
     "type": "CODE"
    }
   },
   "outputs": [
    {
     "name": "stdout",
     "output_type": "stream",
     "text": [
      "The date range of this dataset:  (Timestamp('2022-05-25 15:22:09+0000', tz='UTC'), Timestamp('2022-07-04 18:01:11+0000', tz='UTC'))\n"
     ]
    }
   ],
   "source": [
    "# date range of tweets\n",
    "print('The date range of this dataset: ', (df['retweet_created_at'].min(), df['retweet_created_at'].max()))"
   ]
  },
  {
   "attachments": {},
   "cell_type": "markdown",
   "metadata": {
    "datalore": {
     "hide_input_from_viewers": false,
     "hide_output_from_viewers": false,
     "type": "MD"
    }
   },
   "source": [
    "## 2. Data pre-processing"
   ]
  },
  {
   "attachments": {},
   "cell_type": "markdown",
   "metadata": {
    "datalore": {
     "hide_input_from_viewers": false,
     "hide_output_from_viewers": false,
     "type": "MD"
    }
   },
   "source": [
    "### 2.1 Removing noise"
   ]
  },
  {
   "cell_type": "code",
   "execution_count": 9,
   "metadata": {},
   "outputs": [
    {
     "name": "stderr",
     "output_type": "stream",
     "text": [
      "[nltk_data] Downloading package stopwords to\n",
      "[nltk_data]     /Users/ziaoyou/nltk_data...\n",
      "[nltk_data]   Package stopwords is already up-to-date!\n"
     ]
    }
   ],
   "source": [
    "import nltk\n",
    "nltk.download('stopwords')\n",
    "\n",
    "from string import punctuation\n",
    "import re\n",
    "import unicodedata"
   ]
  },
  {
   "cell_type": "code",
   "execution_count": 10,
   "metadata": {},
   "outputs": [],
   "source": [
    "# 1. lower case\n",
    "# 2. remove new line character\n",
    "# 3. remove urls\n",
    "# 4. remove hashtags, mentions\n",
    "# 5. remove punctuations\n",
    "# 6. remove numbers\n",
    "\n",
    "def clean_round1(text):\n",
    "    text = text.lower()\n",
    "    # new line chr\n",
    "    text = re.sub('\\n', '', text)\n",
    "    # urls\n",
    "    text = re.sub('((www.[^s]+)|(https?://[^s]+))',' ',text)\n",
    "    # remove hashtags and user mentions\n",
    "    text = re.sub(\"@[A-Za-z0-9_]+\",\"\", text)\n",
    "    text = re.sub(\"#[A-Za-z0-9_]+\",\"\", text)\n",
    "    # punctuation\n",
    "    text = re.sub('[%s]' % re.escape(punctuation), '', text)\n",
    "    # remove numbers\n",
    "    text = re.sub('\\w*\\d\\w*', '', text)\n",
    "    return text\n"
   ]
  },
  {
   "cell_type": "code",
   "execution_count": 11,
   "metadata": {},
   "outputs": [
    {
     "data": {
      "text/html": [
       "<div>\n",
       "<style scoped>\n",
       "    .dataframe tbody tr th:only-of-type {\n",
       "        vertical-align: middle;\n",
       "    }\n",
       "\n",
       "    .dataframe tbody tr th {\n",
       "        vertical-align: top;\n",
       "    }\n",
       "\n",
       "    .dataframe thead th {\n",
       "        text-align: right;\n",
       "    }\n",
       "</style>\n",
       "<table border=\"1\" class=\"dataframe\">\n",
       "  <thead>\n",
       "    <tr style=\"text-align: right;\">\n",
       "      <th></th>\n",
       "      <th>user_id</th>\n",
       "      <th>created_at</th>\n",
       "      <th>text</th>\n",
       "      <th>is_quote</th>\n",
       "      <th>is_retweet</th>\n",
       "      <th>retweet_text</th>\n",
       "      <th>retweet_created_at</th>\n",
       "      <th>lang</th>\n",
       "      <th>clean_round1</th>\n",
       "    </tr>\n",
       "  </thead>\n",
       "  <tbody>\n",
       "    <tr>\n",
       "      <th>0</th>\n",
       "      <td>1258001900160548865</td>\n",
       "      <td>2022-07-04T18:03:56Z</td>\n",
       "      <td>Nancy Wheeler in every episode of #StrangerThi...</td>\n",
       "      <td>False</td>\n",
       "      <td>True</td>\n",
       "      <td>Nancy Wheeler in every episode of #StrangerThi...</td>\n",
       "      <td>2022-07-03 05:31:05+00:00</td>\n",
       "      <td>en</td>\n",
       "      <td>nancy wheeler in every episode of</td>\n",
       "    </tr>\n",
       "    <tr>\n",
       "      <th>1</th>\n",
       "      <td>701152854489243653</td>\n",
       "      <td>2022-07-04T18:03:55Z</td>\n",
       "      <td>i cannot do this rn\\n#StrangerThings https://t...</td>\n",
       "      <td>False</td>\n",
       "      <td>True</td>\n",
       "      <td>i cannot do this rn\\n#StrangerThings https://t...</td>\n",
       "      <td>2022-07-02 23:31:03+00:00</td>\n",
       "      <td>en</td>\n",
       "      <td>i cannot do this rn</td>\n",
       "    </tr>\n",
       "    <tr>\n",
       "      <th>2</th>\n",
       "      <td>2527761363</td>\n",
       "      <td>2022-07-04T18:03:55Z</td>\n",
       "      <td>3 years ago today, #StrangerThings Season 3 wa...</td>\n",
       "      <td>False</td>\n",
       "      <td>True</td>\n",
       "      <td>3 years ago today, #StrangerThings Season 3 wa...</td>\n",
       "      <td>2022-07-04 12:50:04+00:00</td>\n",
       "      <td>en</td>\n",
       "      <td>years ago today  season  was released ❤️📺✨</td>\n",
       "    </tr>\n",
       "    <tr>\n",
       "      <th>3</th>\n",
       "      <td>1086492588213858304</td>\n",
       "      <td>2022-07-04T17:58:51Z</td>\n",
       "      <td>speedpainting to 80s music #StrangerThings htt...</td>\n",
       "      <td>False</td>\n",
       "      <td>True</td>\n",
       "      <td>speedpainting to 80s music #StrangerThings htt...</td>\n",
       "      <td>2022-07-04 17:46:10+00:00</td>\n",
       "      <td>en</td>\n",
       "      <td>speedpainting to  music</td>\n",
       "    </tr>\n",
       "    <tr>\n",
       "      <th>4</th>\n",
       "      <td>1086492588213858304</td>\n",
       "      <td>2022-07-04T18:02:16Z</td>\n",
       "      <td>The most iconic scenes of #StrangerThings4 #St...</td>\n",
       "      <td>False</td>\n",
       "      <td>True</td>\n",
       "      <td>The most iconic scenes of #StrangerThings4 #St...</td>\n",
       "      <td>2022-07-03 06:25:35+00:00</td>\n",
       "      <td>en</td>\n",
       "      <td>the most iconic scenes of</td>\n",
       "    </tr>\n",
       "  </tbody>\n",
       "</table>\n",
       "</div>"
      ],
      "text/plain": [
       "               user_id            created_at  \\\n",
       "0  1258001900160548865  2022-07-04T18:03:56Z   \n",
       "1   701152854489243653  2022-07-04T18:03:55Z   \n",
       "2           2527761363  2022-07-04T18:03:55Z   \n",
       "3  1086492588213858304  2022-07-04T17:58:51Z   \n",
       "4  1086492588213858304  2022-07-04T18:02:16Z   \n",
       "\n",
       "                                                text  is_quote  is_retweet  \\\n",
       "0  Nancy Wheeler in every episode of #StrangerThi...     False        True   \n",
       "1  i cannot do this rn\\n#StrangerThings https://t...     False        True   \n",
       "2  3 years ago today, #StrangerThings Season 3 wa...     False        True   \n",
       "3  speedpainting to 80s music #StrangerThings htt...     False        True   \n",
       "4  The most iconic scenes of #StrangerThings4 #St...     False        True   \n",
       "\n",
       "                                        retweet_text  \\\n",
       "0  Nancy Wheeler in every episode of #StrangerThi...   \n",
       "1  i cannot do this rn\\n#StrangerThings https://t...   \n",
       "2  3 years ago today, #StrangerThings Season 3 wa...   \n",
       "3  speedpainting to 80s music #StrangerThings htt...   \n",
       "4  The most iconic scenes of #StrangerThings4 #St...   \n",
       "\n",
       "         retweet_created_at lang  \\\n",
       "0 2022-07-03 05:31:05+00:00   en   \n",
       "1 2022-07-02 23:31:03+00:00   en   \n",
       "2 2022-07-04 12:50:04+00:00   en   \n",
       "3 2022-07-04 17:46:10+00:00   en   \n",
       "4 2022-07-03 06:25:35+00:00   en   \n",
       "\n",
       "                                    clean_round1  \n",
       "0           nancy wheeler in every episode of     \n",
       "1                          i cannot do this rn    \n",
       "2   years ago today  season  was released ❤️📺✨    \n",
       "3                     speedpainting to  music     \n",
       "4                the most iconic scenes of        "
      ]
     },
     "execution_count": 11,
     "metadata": {},
     "output_type": "execute_result"
    }
   ],
   "source": [
    "df['clean_round1'] = pd.DataFrame(df['text'].apply(clean_round1))\n",
    "df.head()"
   ]
  },
  {
   "cell_type": "code",
   "execution_count": 12,
   "metadata": {
    "datalore": {
     "hide_input_from_viewers": false,
     "hide_output_from_viewers": false,
     "type": "CODE"
    }
   },
   "outputs": [],
   "source": [
    "# remove accented characters\n",
    "def remove_accented_chars(text):\n",
    "    text = unicodedata.normalize('NFKD', text).encode('ascii', 'ignore').decode('utf-8', 'ignore')\n",
    "    return text\n",
    "\n",
    "# clean and remove repeated characters\n",
    "def cleaning_repeating_char(text):\n",
    "    return re.sub(r'(.)1+', r'1', text)"
   ]
  },
  {
   "cell_type": "code",
   "execution_count": 13,
   "metadata": {},
   "outputs": [],
   "source": [
    "# 1. remove emojis\n",
    "# 2. remove repeated numbers\n",
    "\n",
    "def clean_round2(text):\n",
    "    # remove emojis\n",
    "    text = ''.join(c for c in text if not unicodedata.combining(c))\n",
    "    text = remove_accented_chars(text)\n",
    "    text = cleaning_repeating_char(text)\n",
    "    return text\n"
   ]
  },
  {
   "cell_type": "code",
   "execution_count": 14,
   "metadata": {},
   "outputs": [
    {
     "data": {
      "text/html": [
       "<div>\n",
       "<style scoped>\n",
       "    .dataframe tbody tr th:only-of-type {\n",
       "        vertical-align: middle;\n",
       "    }\n",
       "\n",
       "    .dataframe tbody tr th {\n",
       "        vertical-align: top;\n",
       "    }\n",
       "\n",
       "    .dataframe thead th {\n",
       "        text-align: right;\n",
       "    }\n",
       "</style>\n",
       "<table border=\"1\" class=\"dataframe\">\n",
       "  <thead>\n",
       "    <tr style=\"text-align: right;\">\n",
       "      <th></th>\n",
       "      <th>user_id</th>\n",
       "      <th>created_at</th>\n",
       "      <th>text</th>\n",
       "      <th>is_quote</th>\n",
       "      <th>is_retweet</th>\n",
       "      <th>retweet_text</th>\n",
       "      <th>retweet_created_at</th>\n",
       "      <th>lang</th>\n",
       "      <th>clean_round1</th>\n",
       "      <th>clean_round2</th>\n",
       "    </tr>\n",
       "  </thead>\n",
       "  <tbody>\n",
       "    <tr>\n",
       "      <th>0</th>\n",
       "      <td>1258001900160548865</td>\n",
       "      <td>2022-07-04T18:03:56Z</td>\n",
       "      <td>Nancy Wheeler in every episode of #StrangerThi...</td>\n",
       "      <td>False</td>\n",
       "      <td>True</td>\n",
       "      <td>Nancy Wheeler in every episode of #StrangerThi...</td>\n",
       "      <td>2022-07-03 05:31:05+00:00</td>\n",
       "      <td>en</td>\n",
       "      <td>nancy wheeler in every episode of</td>\n",
       "      <td>nancy wheeler in every episode of</td>\n",
       "    </tr>\n",
       "    <tr>\n",
       "      <th>1</th>\n",
       "      <td>701152854489243653</td>\n",
       "      <td>2022-07-04T18:03:55Z</td>\n",
       "      <td>i cannot do this rn\\n#StrangerThings https://t...</td>\n",
       "      <td>False</td>\n",
       "      <td>True</td>\n",
       "      <td>i cannot do this rn\\n#StrangerThings https://t...</td>\n",
       "      <td>2022-07-02 23:31:03+00:00</td>\n",
       "      <td>en</td>\n",
       "      <td>i cannot do this rn</td>\n",
       "      <td>i cannot do this rn</td>\n",
       "    </tr>\n",
       "    <tr>\n",
       "      <th>2</th>\n",
       "      <td>2527761363</td>\n",
       "      <td>2022-07-04T18:03:55Z</td>\n",
       "      <td>3 years ago today, #StrangerThings Season 3 wa...</td>\n",
       "      <td>False</td>\n",
       "      <td>True</td>\n",
       "      <td>3 years ago today, #StrangerThings Season 3 wa...</td>\n",
       "      <td>2022-07-04 12:50:04+00:00</td>\n",
       "      <td>en</td>\n",
       "      <td>years ago today  season  was released ❤️📺✨</td>\n",
       "      <td>years ago today  season  was released</td>\n",
       "    </tr>\n",
       "    <tr>\n",
       "      <th>3</th>\n",
       "      <td>1086492588213858304</td>\n",
       "      <td>2022-07-04T17:58:51Z</td>\n",
       "      <td>speedpainting to 80s music #StrangerThings htt...</td>\n",
       "      <td>False</td>\n",
       "      <td>True</td>\n",
       "      <td>speedpainting to 80s music #StrangerThings htt...</td>\n",
       "      <td>2022-07-04 17:46:10+00:00</td>\n",
       "      <td>en</td>\n",
       "      <td>speedpainting to  music</td>\n",
       "      <td>speedpainting to  music</td>\n",
       "    </tr>\n",
       "    <tr>\n",
       "      <th>4</th>\n",
       "      <td>1086492588213858304</td>\n",
       "      <td>2022-07-04T18:02:16Z</td>\n",
       "      <td>The most iconic scenes of #StrangerThings4 #St...</td>\n",
       "      <td>False</td>\n",
       "      <td>True</td>\n",
       "      <td>The most iconic scenes of #StrangerThings4 #St...</td>\n",
       "      <td>2022-07-03 06:25:35+00:00</td>\n",
       "      <td>en</td>\n",
       "      <td>the most iconic scenes of</td>\n",
       "      <td>the most iconic scenes of</td>\n",
       "    </tr>\n",
       "  </tbody>\n",
       "</table>\n",
       "</div>"
      ],
      "text/plain": [
       "               user_id            created_at  \\\n",
       "0  1258001900160548865  2022-07-04T18:03:56Z   \n",
       "1   701152854489243653  2022-07-04T18:03:55Z   \n",
       "2           2527761363  2022-07-04T18:03:55Z   \n",
       "3  1086492588213858304  2022-07-04T17:58:51Z   \n",
       "4  1086492588213858304  2022-07-04T18:02:16Z   \n",
       "\n",
       "                                                text  is_quote  is_retweet  \\\n",
       "0  Nancy Wheeler in every episode of #StrangerThi...     False        True   \n",
       "1  i cannot do this rn\\n#StrangerThings https://t...     False        True   \n",
       "2  3 years ago today, #StrangerThings Season 3 wa...     False        True   \n",
       "3  speedpainting to 80s music #StrangerThings htt...     False        True   \n",
       "4  The most iconic scenes of #StrangerThings4 #St...     False        True   \n",
       "\n",
       "                                        retweet_text  \\\n",
       "0  Nancy Wheeler in every episode of #StrangerThi...   \n",
       "1  i cannot do this rn\\n#StrangerThings https://t...   \n",
       "2  3 years ago today, #StrangerThings Season 3 wa...   \n",
       "3  speedpainting to 80s music #StrangerThings htt...   \n",
       "4  The most iconic scenes of #StrangerThings4 #St...   \n",
       "\n",
       "         retweet_created_at lang  \\\n",
       "0 2022-07-03 05:31:05+00:00   en   \n",
       "1 2022-07-02 23:31:03+00:00   en   \n",
       "2 2022-07-04 12:50:04+00:00   en   \n",
       "3 2022-07-04 17:46:10+00:00   en   \n",
       "4 2022-07-03 06:25:35+00:00   en   \n",
       "\n",
       "                                    clean_round1  \\\n",
       "0           nancy wheeler in every episode of      \n",
       "1                          i cannot do this rn     \n",
       "2   years ago today  season  was released ❤️📺✨     \n",
       "3                     speedpainting to  music      \n",
       "4                the most iconic scenes of         \n",
       "\n",
       "                                clean_round2  \n",
       "0       nancy wheeler in every episode of     \n",
       "1                      i cannot do this rn    \n",
       "2   years ago today  season  was released     \n",
       "3                 speedpainting to  music     \n",
       "4            the most iconic scenes of        "
      ]
     },
     "execution_count": 14,
     "metadata": {},
     "output_type": "execute_result"
    }
   ],
   "source": [
    "df['clean_round2'] = pd.DataFrame(df['clean_round1'].apply(clean_round2))\n",
    "df.head()"
   ]
  },
  {
   "cell_type": "code",
   "execution_count": 15,
   "metadata": {},
   "outputs": [],
   "source": [
    "import contractions\n",
    "def clean_round3(text):\n",
    "    text = contractions.fix(text)\n",
    "    return text\n"
   ]
  },
  {
   "cell_type": "code",
   "execution_count": 16,
   "metadata": {},
   "outputs": [
    {
     "data": {
      "text/html": [
       "<div>\n",
       "<style scoped>\n",
       "    .dataframe tbody tr th:only-of-type {\n",
       "        vertical-align: middle;\n",
       "    }\n",
       "\n",
       "    .dataframe tbody tr th {\n",
       "        vertical-align: top;\n",
       "    }\n",
       "\n",
       "    .dataframe thead th {\n",
       "        text-align: right;\n",
       "    }\n",
       "</style>\n",
       "<table border=\"1\" class=\"dataframe\">\n",
       "  <thead>\n",
       "    <tr style=\"text-align: right;\">\n",
       "      <th></th>\n",
       "      <th>user_id</th>\n",
       "      <th>created_at</th>\n",
       "      <th>text</th>\n",
       "      <th>is_quote</th>\n",
       "      <th>is_retweet</th>\n",
       "      <th>retweet_text</th>\n",
       "      <th>retweet_created_at</th>\n",
       "      <th>lang</th>\n",
       "      <th>clean_round1</th>\n",
       "      <th>clean_round2</th>\n",
       "      <th>clean_round3</th>\n",
       "    </tr>\n",
       "  </thead>\n",
       "  <tbody>\n",
       "    <tr>\n",
       "      <th>0</th>\n",
       "      <td>1258001900160548865</td>\n",
       "      <td>2022-07-04T18:03:56Z</td>\n",
       "      <td>Nancy Wheeler in every episode of #StrangerThi...</td>\n",
       "      <td>False</td>\n",
       "      <td>True</td>\n",
       "      <td>Nancy Wheeler in every episode of #StrangerThi...</td>\n",
       "      <td>2022-07-03 05:31:05+00:00</td>\n",
       "      <td>en</td>\n",
       "      <td>nancy wheeler in every episode of</td>\n",
       "      <td>nancy wheeler in every episode of</td>\n",
       "      <td>nancy wheeler in every episode of</td>\n",
       "    </tr>\n",
       "    <tr>\n",
       "      <th>1</th>\n",
       "      <td>701152854489243653</td>\n",
       "      <td>2022-07-04T18:03:55Z</td>\n",
       "      <td>i cannot do this rn\\n#StrangerThings https://t...</td>\n",
       "      <td>False</td>\n",
       "      <td>True</td>\n",
       "      <td>i cannot do this rn\\n#StrangerThings https://t...</td>\n",
       "      <td>2022-07-02 23:31:03+00:00</td>\n",
       "      <td>en</td>\n",
       "      <td>i cannot do this rn</td>\n",
       "      <td>i cannot do this rn</td>\n",
       "      <td>i cannot do this right now</td>\n",
       "    </tr>\n",
       "    <tr>\n",
       "      <th>2</th>\n",
       "      <td>2527761363</td>\n",
       "      <td>2022-07-04T18:03:55Z</td>\n",
       "      <td>3 years ago today, #StrangerThings Season 3 wa...</td>\n",
       "      <td>False</td>\n",
       "      <td>True</td>\n",
       "      <td>3 years ago today, #StrangerThings Season 3 wa...</td>\n",
       "      <td>2022-07-04 12:50:04+00:00</td>\n",
       "      <td>en</td>\n",
       "      <td>years ago today  season  was released ❤️📺✨</td>\n",
       "      <td>years ago today  season  was released</td>\n",
       "      <td>years ago today  season  was released</td>\n",
       "    </tr>\n",
       "    <tr>\n",
       "      <th>3</th>\n",
       "      <td>1086492588213858304</td>\n",
       "      <td>2022-07-04T17:58:51Z</td>\n",
       "      <td>speedpainting to 80s music #StrangerThings htt...</td>\n",
       "      <td>False</td>\n",
       "      <td>True</td>\n",
       "      <td>speedpainting to 80s music #StrangerThings htt...</td>\n",
       "      <td>2022-07-04 17:46:10+00:00</td>\n",
       "      <td>en</td>\n",
       "      <td>speedpainting to  music</td>\n",
       "      <td>speedpainting to  music</td>\n",
       "      <td>speedpainting to  music</td>\n",
       "    </tr>\n",
       "    <tr>\n",
       "      <th>4</th>\n",
       "      <td>1086492588213858304</td>\n",
       "      <td>2022-07-04T18:02:16Z</td>\n",
       "      <td>The most iconic scenes of #StrangerThings4 #St...</td>\n",
       "      <td>False</td>\n",
       "      <td>True</td>\n",
       "      <td>The most iconic scenes of #StrangerThings4 #St...</td>\n",
       "      <td>2022-07-03 06:25:35+00:00</td>\n",
       "      <td>en</td>\n",
       "      <td>the most iconic scenes of</td>\n",
       "      <td>the most iconic scenes of</td>\n",
       "      <td>the most iconic scenes of</td>\n",
       "    </tr>\n",
       "  </tbody>\n",
       "</table>\n",
       "</div>"
      ],
      "text/plain": [
       "               user_id            created_at  \\\n",
       "0  1258001900160548865  2022-07-04T18:03:56Z   \n",
       "1   701152854489243653  2022-07-04T18:03:55Z   \n",
       "2           2527761363  2022-07-04T18:03:55Z   \n",
       "3  1086492588213858304  2022-07-04T17:58:51Z   \n",
       "4  1086492588213858304  2022-07-04T18:02:16Z   \n",
       "\n",
       "                                                text  is_quote  is_retweet  \\\n",
       "0  Nancy Wheeler in every episode of #StrangerThi...     False        True   \n",
       "1  i cannot do this rn\\n#StrangerThings https://t...     False        True   \n",
       "2  3 years ago today, #StrangerThings Season 3 wa...     False        True   \n",
       "3  speedpainting to 80s music #StrangerThings htt...     False        True   \n",
       "4  The most iconic scenes of #StrangerThings4 #St...     False        True   \n",
       "\n",
       "                                        retweet_text  \\\n",
       "0  Nancy Wheeler in every episode of #StrangerThi...   \n",
       "1  i cannot do this rn\\n#StrangerThings https://t...   \n",
       "2  3 years ago today, #StrangerThings Season 3 wa...   \n",
       "3  speedpainting to 80s music #StrangerThings htt...   \n",
       "4  The most iconic scenes of #StrangerThings4 #St...   \n",
       "\n",
       "         retweet_created_at lang  \\\n",
       "0 2022-07-03 05:31:05+00:00   en   \n",
       "1 2022-07-02 23:31:03+00:00   en   \n",
       "2 2022-07-04 12:50:04+00:00   en   \n",
       "3 2022-07-04 17:46:10+00:00   en   \n",
       "4 2022-07-03 06:25:35+00:00   en   \n",
       "\n",
       "                                    clean_round1  \\\n",
       "0           nancy wheeler in every episode of      \n",
       "1                          i cannot do this rn     \n",
       "2   years ago today  season  was released ❤️📺✨     \n",
       "3                     speedpainting to  music      \n",
       "4                the most iconic scenes of         \n",
       "\n",
       "                                clean_round2  \\\n",
       "0       nancy wheeler in every episode of      \n",
       "1                      i cannot do this rn     \n",
       "2   years ago today  season  was released      \n",
       "3                 speedpainting to  music      \n",
       "4            the most iconic scenes of         \n",
       "\n",
       "                                clean_round3  \n",
       "0       nancy wheeler in every episode of     \n",
       "1               i cannot do this right now    \n",
       "2   years ago today  season  was released     \n",
       "3                 speedpainting to  music     \n",
       "4            the most iconic scenes of        "
      ]
     },
     "execution_count": 16,
     "metadata": {},
     "output_type": "execute_result"
    }
   ],
   "source": [
    "df['clean_round3'] = df['clean_round2'].apply(clean_round3)\n",
    "df.head()"
   ]
  },
  {
   "attachments": {},
   "cell_type": "markdown",
   "metadata": {
    "datalore": {
     "hide_input_from_viewers": false,
     "hide_output_from_viewers": false,
     "type": "MD"
    }
   },
   "source": [
    "### 2.2 Normalize: Lemmatization"
   ]
  },
  {
   "cell_type": "code",
   "execution_count": 19,
   "metadata": {},
   "outputs": [],
   "source": [
    "def clean_round4(text):\n",
    "    # lemmatization\n",
    "    lemmatizer = WordNetLemmatizer()\n",
    "    text = ' '.join([lemmatizer.lemmatize(word) for word in text.split()])\n",
    "    # stemming\n",
    "    # stemmer = PorterStemmer()\n",
    "    # text = ' '.join([stemmer.stem(word) for word in text.split()])\n",
    "    return text"
   ]
  },
  {
   "cell_type": "code",
   "execution_count": 21,
   "metadata": {},
   "outputs": [
    {
     "data": {
      "text/html": [
       "<div>\n",
       "<style scoped>\n",
       "    .dataframe tbody tr th:only-of-type {\n",
       "        vertical-align: middle;\n",
       "    }\n",
       "\n",
       "    .dataframe tbody tr th {\n",
       "        vertical-align: top;\n",
       "    }\n",
       "\n",
       "    .dataframe thead th {\n",
       "        text-align: right;\n",
       "    }\n",
       "</style>\n",
       "<table border=\"1\" class=\"dataframe\">\n",
       "  <thead>\n",
       "    <tr style=\"text-align: right;\">\n",
       "      <th></th>\n",
       "      <th>user_id</th>\n",
       "      <th>created_at</th>\n",
       "      <th>text</th>\n",
       "      <th>is_quote</th>\n",
       "      <th>is_retweet</th>\n",
       "      <th>retweet_text</th>\n",
       "      <th>retweet_created_at</th>\n",
       "      <th>lang</th>\n",
       "      <th>clean_round1</th>\n",
       "      <th>clean_round2</th>\n",
       "      <th>clean_round3</th>\n",
       "      <th>clean_round4</th>\n",
       "    </tr>\n",
       "  </thead>\n",
       "  <tbody>\n",
       "    <tr>\n",
       "      <th>0</th>\n",
       "      <td>1258001900160548865</td>\n",
       "      <td>2022-07-04T18:03:56Z</td>\n",
       "      <td>Nancy Wheeler in every episode of #StrangerThi...</td>\n",
       "      <td>False</td>\n",
       "      <td>True</td>\n",
       "      <td>Nancy Wheeler in every episode of #StrangerThi...</td>\n",
       "      <td>2022-07-03 05:31:05+00:00</td>\n",
       "      <td>en</td>\n",
       "      <td>nancy wheeler in every episode of</td>\n",
       "      <td>nancy wheeler in every episode of</td>\n",
       "      <td>nancy wheeler in every episode of</td>\n",
       "      <td>nancy wheeler in every episode of</td>\n",
       "    </tr>\n",
       "    <tr>\n",
       "      <th>1</th>\n",
       "      <td>701152854489243653</td>\n",
       "      <td>2022-07-04T18:03:55Z</td>\n",
       "      <td>i cannot do this rn\\n#StrangerThings https://t...</td>\n",
       "      <td>False</td>\n",
       "      <td>True</td>\n",
       "      <td>i cannot do this rn\\n#StrangerThings https://t...</td>\n",
       "      <td>2022-07-02 23:31:03+00:00</td>\n",
       "      <td>en</td>\n",
       "      <td>i cannot do this rn</td>\n",
       "      <td>i cannot do this rn</td>\n",
       "      <td>i cannot do this right now</td>\n",
       "      <td>i cannot do this right now</td>\n",
       "    </tr>\n",
       "    <tr>\n",
       "      <th>2</th>\n",
       "      <td>2527761363</td>\n",
       "      <td>2022-07-04T18:03:55Z</td>\n",
       "      <td>3 years ago today, #StrangerThings Season 3 wa...</td>\n",
       "      <td>False</td>\n",
       "      <td>True</td>\n",
       "      <td>3 years ago today, #StrangerThings Season 3 wa...</td>\n",
       "      <td>2022-07-04 12:50:04+00:00</td>\n",
       "      <td>en</td>\n",
       "      <td>years ago today  season  was released ❤️📺✨</td>\n",
       "      <td>years ago today  season  was released</td>\n",
       "      <td>years ago today  season  was released</td>\n",
       "      <td>year ago today season wa released</td>\n",
       "    </tr>\n",
       "    <tr>\n",
       "      <th>3</th>\n",
       "      <td>1086492588213858304</td>\n",
       "      <td>2022-07-04T17:58:51Z</td>\n",
       "      <td>speedpainting to 80s music #StrangerThings htt...</td>\n",
       "      <td>False</td>\n",
       "      <td>True</td>\n",
       "      <td>speedpainting to 80s music #StrangerThings htt...</td>\n",
       "      <td>2022-07-04 17:46:10+00:00</td>\n",
       "      <td>en</td>\n",
       "      <td>speedpainting to  music</td>\n",
       "      <td>speedpainting to  music</td>\n",
       "      <td>speedpainting to  music</td>\n",
       "      <td>speedpainting to music</td>\n",
       "    </tr>\n",
       "    <tr>\n",
       "      <th>4</th>\n",
       "      <td>1086492588213858304</td>\n",
       "      <td>2022-07-04T18:02:16Z</td>\n",
       "      <td>The most iconic scenes of #StrangerThings4 #St...</td>\n",
       "      <td>False</td>\n",
       "      <td>True</td>\n",
       "      <td>The most iconic scenes of #StrangerThings4 #St...</td>\n",
       "      <td>2022-07-03 06:25:35+00:00</td>\n",
       "      <td>en</td>\n",
       "      <td>the most iconic scenes of</td>\n",
       "      <td>the most iconic scenes of</td>\n",
       "      <td>the most iconic scenes of</td>\n",
       "      <td>the most iconic scene of</td>\n",
       "    </tr>\n",
       "  </tbody>\n",
       "</table>\n",
       "</div>"
      ],
      "text/plain": [
       "               user_id            created_at  \\\n",
       "0  1258001900160548865  2022-07-04T18:03:56Z   \n",
       "1   701152854489243653  2022-07-04T18:03:55Z   \n",
       "2           2527761363  2022-07-04T18:03:55Z   \n",
       "3  1086492588213858304  2022-07-04T17:58:51Z   \n",
       "4  1086492588213858304  2022-07-04T18:02:16Z   \n",
       "\n",
       "                                                text  is_quote  is_retweet  \\\n",
       "0  Nancy Wheeler in every episode of #StrangerThi...     False        True   \n",
       "1  i cannot do this rn\\n#StrangerThings https://t...     False        True   \n",
       "2  3 years ago today, #StrangerThings Season 3 wa...     False        True   \n",
       "3  speedpainting to 80s music #StrangerThings htt...     False        True   \n",
       "4  The most iconic scenes of #StrangerThings4 #St...     False        True   \n",
       "\n",
       "                                        retweet_text  \\\n",
       "0  Nancy Wheeler in every episode of #StrangerThi...   \n",
       "1  i cannot do this rn\\n#StrangerThings https://t...   \n",
       "2  3 years ago today, #StrangerThings Season 3 wa...   \n",
       "3  speedpainting to 80s music #StrangerThings htt...   \n",
       "4  The most iconic scenes of #StrangerThings4 #St...   \n",
       "\n",
       "         retweet_created_at lang  \\\n",
       "0 2022-07-03 05:31:05+00:00   en   \n",
       "1 2022-07-02 23:31:03+00:00   en   \n",
       "2 2022-07-04 12:50:04+00:00   en   \n",
       "3 2022-07-04 17:46:10+00:00   en   \n",
       "4 2022-07-03 06:25:35+00:00   en   \n",
       "\n",
       "                                    clean_round1  \\\n",
       "0           nancy wheeler in every episode of      \n",
       "1                          i cannot do this rn     \n",
       "2   years ago today  season  was released ❤️📺✨     \n",
       "3                     speedpainting to  music      \n",
       "4                the most iconic scenes of         \n",
       "\n",
       "                                clean_round2  \\\n",
       "0       nancy wheeler in every episode of      \n",
       "1                      i cannot do this rn     \n",
       "2   years ago today  season  was released      \n",
       "3                 speedpainting to  music      \n",
       "4            the most iconic scenes of         \n",
       "\n",
       "                                clean_round3  \\\n",
       "0       nancy wheeler in every episode of      \n",
       "1               i cannot do this right now     \n",
       "2   years ago today  season  was released      \n",
       "3                 speedpainting to  music      \n",
       "4            the most iconic scenes of         \n",
       "\n",
       "                        clean_round4  \n",
       "0  nancy wheeler in every episode of  \n",
       "1         i cannot do this right now  \n",
       "2  year ago today season wa released  \n",
       "3             speedpainting to music  \n",
       "4           the most iconic scene of  "
      ]
     },
     "execution_count": 21,
     "metadata": {},
     "output_type": "execute_result"
    }
   ],
   "source": [
    "df['clean_round4'] = pd.DataFrame(df['clean_round3'].apply(clean_round4))\n",
    "df.head()"
   ]
  },
  {
   "attachments": {},
   "cell_type": "markdown",
   "metadata": {
    "datalore": {
     "hide_input_from_viewers": false,
     "hide_output_from_viewers": false,
     "type": "MD"
    }
   },
   "source": [
    "### 2.3 Tokenization"
   ]
  },
  {
   "attachments": {},
   "cell_type": "markdown",
   "metadata": {},
   "source": [
    "#### 2.3.1 nltk.tokenizer"
   ]
  },
  {
   "cell_type": "code",
   "execution_count": 22,
   "metadata": {
    "datalore": {
     "hide_input_from_viewers": false,
     "hide_output_from_viewers": false,
     "type": "CODE"
    }
   },
   "outputs": [],
   "source": [
    "# libraries\n",
    "from nltk.tokenize.toktok import ToktokTokenizer\n",
    "import re\n",
    "import unicodedata\n",
    "\n",
    "tokenizer=ToktokTokenizer()\n",
    "stopword_list=nltk.corpus.stopwords.words('english')"
   ]
  },
  {
   "cell_type": "code",
   "execution_count": 24,
   "metadata": {
    "datalore": {
     "hide_input_from_viewers": false,
     "hide_output_from_viewers": false,
     "type": "CODE"
    }
   },
   "outputs": [],
   "source": [
    "sample = df['clean_round4'][:5]"
   ]
  },
  {
   "cell_type": "code",
   "execution_count": 37,
   "metadata": {
    "datalore": {
     "hide_input_from_viewers": false,
     "hide_output_from_viewers": false,
     "type": "CODE"
    }
   },
   "outputs": [],
   "source": [
    "# tokenize the tweets\n",
    "tweet_tokens = []\n",
    "for i in range(len(sample)):\n",
    "    tweet_tokens.append(tokenizer.tokenize(sample[i]))"
   ]
  },
  {
   "cell_type": "code",
   "execution_count": 38,
   "metadata": {},
   "outputs": [
    {
     "data": {
      "text/plain": [
       "[['nancy', 'wheeler', 'in', 'every', 'episode', 'of'],\n",
       " ['i', 'cannot', 'do', 'this', 'right', 'now'],\n",
       " ['year', 'ago', 'today', 'season', 'wa', 'released'],\n",
       " ['speedpainting', 'to', 'music'],\n",
       " ['the', 'most', 'iconic', 'scene', 'of']]"
      ]
     },
     "execution_count": 38,
     "metadata": {},
     "output_type": "execute_result"
    }
   ],
   "source": [
    "tweet_tokens"
   ]
  },
  {
   "attachments": {},
   "cell_type": "markdown",
   "metadata": {},
   "source": [
    "#### 2.3.2 nltk.word_tokenize (better)\n",
    "\n",
    "`punkt` is a module from `nltk` and a model that has been trained to help you tokenize phrases and sentences more realistically - meaning, it is not just a split on white space.   \n",
    "This method does take a bit more time, however."
   ]
  },
  {
   "cell_type": "code",
   "execution_count": 40,
   "metadata": {
    "datalore": {
     "hide_input_from_viewers": false,
     "hide_output_from_viewers": false,
     "type": "CODE"
    }
   },
   "outputs": [],
   "source": [
    "# nltk.download('punkt')\n",
    "from nltk.tokenize import word_tokenize"
   ]
  },
  {
   "cell_type": "code",
   "execution_count": 41,
   "metadata": {
    "datalore": {
     "hide_input_from_viewers": false,
     "hide_output_from_viewers": false,
     "type": "CODE"
    }
   },
   "outputs": [],
   "source": [
    "# use the punkt tokenizer to tokenize the tweets\n",
    "tweet_punktokens = []\n",
    "for i in range(len(sample)):\n",
    "    tweet_punktokens.append(word_tokenize(sample[i]))"
   ]
  },
  {
   "cell_type": "code",
   "execution_count": 42,
   "metadata": {
    "datalore": {
     "hide_input_from_viewers": false,
     "hide_output_from_viewers": false,
     "type": "CODE"
    }
   },
   "outputs": [
    {
     "data": {
      "text/plain": [
       "[['nancy', 'wheeler', 'in', 'every', 'episode', 'of'],\n",
       " ['i', 'can', 'not', 'do', 'this', 'right', 'now'],\n",
       " ['year', 'ago', 'today', 'season', 'wa', 'released'],\n",
       " ['speedpainting', 'to', 'music'],\n",
       " ['the', 'most', 'iconic', 'scene', 'of']]"
      ]
     },
     "execution_count": 42,
     "metadata": {},
     "output_type": "execute_result"
    }
   ],
   "source": [
    "tweet_punktokens[:5]"
   ]
  },
  {
   "attachments": {},
   "cell_type": "markdown",
   "metadata": {},
   "source": [
    "#### 2.3.3 nltl.TweetTokenizer (better)\n",
    "\n",
    "`TweetTokenizer` is a tokenizer specifically designed for micro-blogging tokenization tasks!"
   ]
  },
  {
   "cell_type": "code",
   "execution_count": 43,
   "metadata": {
    "datalore": {
     "hide_input_from_viewers": false,
     "hide_output_from_viewers": false,
     "type": "CODE"
    }
   },
   "outputs": [],
   "source": [
    "from nltk.tokenize import TweetTokenizer"
   ]
  },
  {
   "cell_type": "code",
   "execution_count": 44,
   "metadata": {
    "datalore": {
     "hide_input_from_viewers": false,
     "hide_output_from_viewers": false,
     "type": "CODE"
    }
   },
   "outputs": [],
   "source": [
    "tweet_tweettokens = []\n",
    "for i in range(len(sample)):\n",
    "    tweet_tweettokens.append(TweetTokenizer().tokenize(sample[i]))"
   ]
  },
  {
   "cell_type": "code",
   "execution_count": 45,
   "metadata": {
    "datalore": {
     "hide_input_from_viewers": false,
     "hide_output_from_viewers": false,
     "type": "CODE"
    }
   },
   "outputs": [
    {
     "data": {
      "text/plain": [
       "[['nancy', 'wheeler', 'in', 'every', 'episode', 'of'],\n",
       " ['i', 'cannot', 'do', 'this', 'right', 'now'],\n",
       " ['year', 'ago', 'today', 'season', 'wa', 'released'],\n",
       " ['speedpainting', 'to', 'music'],\n",
       " ['the', 'most', 'iconic', 'scene', 'of']]"
      ]
     },
     "execution_count": 45,
     "metadata": {},
     "output_type": "execute_result"
    }
   ],
   "source": [
    "tweet_tweettokens[:5]"
   ]
  },
  {
   "attachments": {},
   "cell_type": "markdown",
   "metadata": {},
   "source": [
    "#### 2.4 Term-Document Matrix\n",
    "\n",
    "For this step, we can chose to use our own tokenizer - a lot of people perfer to create their own tokenizer to meet their specific data needs - however for this analysis we will use the built in tokenizer in the `CountVectorizer` function."
   ]
  },
  {
   "cell_type": "code",
   "execution_count": 80,
   "metadata": {},
   "outputs": [
    {
     "data": {
      "text/html": [
       "<div>\n",
       "<style scoped>\n",
       "    .dataframe tbody tr th:only-of-type {\n",
       "        vertical-align: middle;\n",
       "    }\n",
       "\n",
       "    .dataframe tbody tr th {\n",
       "        vertical-align: top;\n",
       "    }\n",
       "\n",
       "    .dataframe thead th {\n",
       "        text-align: right;\n",
       "    }\n",
       "</style>\n",
       "<table border=\"1\" class=\"dataframe\">\n",
       "  <thead>\n",
       "    <tr style=\"text-align: right;\">\n",
       "      <th></th>\n",
       "      <th>aa</th>\n",
       "      <th>aangs</th>\n",
       "      <th>ab</th>\n",
       "      <th>abeg</th>\n",
       "      <th>ability</th>\n",
       "      <th>able</th>\n",
       "      <th>absolute</th>\n",
       "      <th>absolutely</th>\n",
       "      <th>abuja</th>\n",
       "      <th>accepted</th>\n",
       "      <th>...</th>\n",
       "      <th>yo</th>\n",
       "      <th>young</th>\n",
       "      <th>youngji</th>\n",
       "      <th>youtube</th>\n",
       "      <th>yt</th>\n",
       "      <th>yuri</th>\n",
       "      <th>zaimprowizowa</th>\n",
       "      <th>ze</th>\n",
       "      <th>zl</th>\n",
       "      <th>zoe</th>\n",
       "    </tr>\n",
       "  </thead>\n",
       "  <tbody>\n",
       "    <tr>\n",
       "      <th>0</th>\n",
       "      <td>0</td>\n",
       "      <td>0</td>\n",
       "      <td>0</td>\n",
       "      <td>0</td>\n",
       "      <td>0</td>\n",
       "      <td>0</td>\n",
       "      <td>0</td>\n",
       "      <td>0</td>\n",
       "      <td>0</td>\n",
       "      <td>0</td>\n",
       "      <td>...</td>\n",
       "      <td>0</td>\n",
       "      <td>0</td>\n",
       "      <td>0</td>\n",
       "      <td>0</td>\n",
       "      <td>0</td>\n",
       "      <td>0</td>\n",
       "      <td>0</td>\n",
       "      <td>0</td>\n",
       "      <td>0</td>\n",
       "      <td>0</td>\n",
       "    </tr>\n",
       "    <tr>\n",
       "      <th>1</th>\n",
       "      <td>0</td>\n",
       "      <td>0</td>\n",
       "      <td>0</td>\n",
       "      <td>0</td>\n",
       "      <td>0</td>\n",
       "      <td>0</td>\n",
       "      <td>0</td>\n",
       "      <td>0</td>\n",
       "      <td>0</td>\n",
       "      <td>0</td>\n",
       "      <td>...</td>\n",
       "      <td>0</td>\n",
       "      <td>0</td>\n",
       "      <td>0</td>\n",
       "      <td>0</td>\n",
       "      <td>0</td>\n",
       "      <td>0</td>\n",
       "      <td>0</td>\n",
       "      <td>0</td>\n",
       "      <td>0</td>\n",
       "      <td>0</td>\n",
       "    </tr>\n",
       "    <tr>\n",
       "      <th>2</th>\n",
       "      <td>0</td>\n",
       "      <td>0</td>\n",
       "      <td>0</td>\n",
       "      <td>0</td>\n",
       "      <td>0</td>\n",
       "      <td>0</td>\n",
       "      <td>0</td>\n",
       "      <td>0</td>\n",
       "      <td>0</td>\n",
       "      <td>0</td>\n",
       "      <td>...</td>\n",
       "      <td>0</td>\n",
       "      <td>0</td>\n",
       "      <td>0</td>\n",
       "      <td>0</td>\n",
       "      <td>0</td>\n",
       "      <td>0</td>\n",
       "      <td>0</td>\n",
       "      <td>0</td>\n",
       "      <td>0</td>\n",
       "      <td>0</td>\n",
       "    </tr>\n",
       "    <tr>\n",
       "      <th>3</th>\n",
       "      <td>0</td>\n",
       "      <td>0</td>\n",
       "      <td>0</td>\n",
       "      <td>0</td>\n",
       "      <td>0</td>\n",
       "      <td>0</td>\n",
       "      <td>0</td>\n",
       "      <td>0</td>\n",
       "      <td>0</td>\n",
       "      <td>0</td>\n",
       "      <td>...</td>\n",
       "      <td>0</td>\n",
       "      <td>0</td>\n",
       "      <td>0</td>\n",
       "      <td>0</td>\n",
       "      <td>0</td>\n",
       "      <td>0</td>\n",
       "      <td>0</td>\n",
       "      <td>0</td>\n",
       "      <td>0</td>\n",
       "      <td>0</td>\n",
       "    </tr>\n",
       "    <tr>\n",
       "      <th>4</th>\n",
       "      <td>0</td>\n",
       "      <td>0</td>\n",
       "      <td>0</td>\n",
       "      <td>0</td>\n",
       "      <td>0</td>\n",
       "      <td>0</td>\n",
       "      <td>0</td>\n",
       "      <td>0</td>\n",
       "      <td>0</td>\n",
       "      <td>0</td>\n",
       "      <td>...</td>\n",
       "      <td>0</td>\n",
       "      <td>0</td>\n",
       "      <td>0</td>\n",
       "      <td>0</td>\n",
       "      <td>0</td>\n",
       "      <td>0</td>\n",
       "      <td>0</td>\n",
       "      <td>0</td>\n",
       "      <td>0</td>\n",
       "      <td>0</td>\n",
       "    </tr>\n",
       "    <tr>\n",
       "      <th>...</th>\n",
       "      <td>...</td>\n",
       "      <td>...</td>\n",
       "      <td>...</td>\n",
       "      <td>...</td>\n",
       "      <td>...</td>\n",
       "      <td>...</td>\n",
       "      <td>...</td>\n",
       "      <td>...</td>\n",
       "      <td>...</td>\n",
       "      <td>...</td>\n",
       "      <td>...</td>\n",
       "      <td>...</td>\n",
       "      <td>...</td>\n",
       "      <td>...</td>\n",
       "      <td>...</td>\n",
       "      <td>...</td>\n",
       "      <td>...</td>\n",
       "      <td>...</td>\n",
       "      <td>...</td>\n",
       "      <td>...</td>\n",
       "      <td>...</td>\n",
       "    </tr>\n",
       "    <tr>\n",
       "      <th>3276</th>\n",
       "      <td>0</td>\n",
       "      <td>0</td>\n",
       "      <td>0</td>\n",
       "      <td>0</td>\n",
       "      <td>0</td>\n",
       "      <td>0</td>\n",
       "      <td>0</td>\n",
       "      <td>0</td>\n",
       "      <td>0</td>\n",
       "      <td>0</td>\n",
       "      <td>...</td>\n",
       "      <td>0</td>\n",
       "      <td>0</td>\n",
       "      <td>0</td>\n",
       "      <td>0</td>\n",
       "      <td>0</td>\n",
       "      <td>0</td>\n",
       "      <td>0</td>\n",
       "      <td>0</td>\n",
       "      <td>0</td>\n",
       "      <td>0</td>\n",
       "    </tr>\n",
       "    <tr>\n",
       "      <th>3277</th>\n",
       "      <td>0</td>\n",
       "      <td>0</td>\n",
       "      <td>0</td>\n",
       "      <td>0</td>\n",
       "      <td>0</td>\n",
       "      <td>0</td>\n",
       "      <td>0</td>\n",
       "      <td>0</td>\n",
       "      <td>0</td>\n",
       "      <td>0</td>\n",
       "      <td>...</td>\n",
       "      <td>0</td>\n",
       "      <td>0</td>\n",
       "      <td>0</td>\n",
       "      <td>0</td>\n",
       "      <td>0</td>\n",
       "      <td>0</td>\n",
       "      <td>0</td>\n",
       "      <td>0</td>\n",
       "      <td>0</td>\n",
       "      <td>0</td>\n",
       "    </tr>\n",
       "    <tr>\n",
       "      <th>3278</th>\n",
       "      <td>0</td>\n",
       "      <td>0</td>\n",
       "      <td>0</td>\n",
       "      <td>0</td>\n",
       "      <td>0</td>\n",
       "      <td>0</td>\n",
       "      <td>0</td>\n",
       "      <td>0</td>\n",
       "      <td>0</td>\n",
       "      <td>0</td>\n",
       "      <td>...</td>\n",
       "      <td>0</td>\n",
       "      <td>0</td>\n",
       "      <td>0</td>\n",
       "      <td>0</td>\n",
       "      <td>0</td>\n",
       "      <td>0</td>\n",
       "      <td>0</td>\n",
       "      <td>0</td>\n",
       "      <td>0</td>\n",
       "      <td>0</td>\n",
       "    </tr>\n",
       "    <tr>\n",
       "      <th>3279</th>\n",
       "      <td>0</td>\n",
       "      <td>0</td>\n",
       "      <td>0</td>\n",
       "      <td>0</td>\n",
       "      <td>0</td>\n",
       "      <td>0</td>\n",
       "      <td>0</td>\n",
       "      <td>0</td>\n",
       "      <td>0</td>\n",
       "      <td>0</td>\n",
       "      <td>...</td>\n",
       "      <td>0</td>\n",
       "      <td>0</td>\n",
       "      <td>0</td>\n",
       "      <td>0</td>\n",
       "      <td>0</td>\n",
       "      <td>0</td>\n",
       "      <td>0</td>\n",
       "      <td>0</td>\n",
       "      <td>0</td>\n",
       "      <td>0</td>\n",
       "    </tr>\n",
       "    <tr>\n",
       "      <th>3280</th>\n",
       "      <td>0</td>\n",
       "      <td>0</td>\n",
       "      <td>0</td>\n",
       "      <td>0</td>\n",
       "      <td>0</td>\n",
       "      <td>0</td>\n",
       "      <td>0</td>\n",
       "      <td>0</td>\n",
       "      <td>0</td>\n",
       "      <td>0</td>\n",
       "      <td>...</td>\n",
       "      <td>0</td>\n",
       "      <td>0</td>\n",
       "      <td>0</td>\n",
       "      <td>0</td>\n",
       "      <td>0</td>\n",
       "      <td>0</td>\n",
       "      <td>0</td>\n",
       "      <td>0</td>\n",
       "      <td>0</td>\n",
       "      <td>0</td>\n",
       "    </tr>\n",
       "  </tbody>\n",
       "</table>\n",
       "<p>3281 rows × 2883 columns</p>\n",
       "</div>"
      ],
      "text/plain": [
       "      aa  aangs  ab  abeg  ability  able  absolute  absolutely  abuja  \\\n",
       "0      0      0   0     0        0     0         0           0      0   \n",
       "1      0      0   0     0        0     0         0           0      0   \n",
       "2      0      0   0     0        0     0         0           0      0   \n",
       "3      0      0   0     0        0     0         0           0      0   \n",
       "4      0      0   0     0        0     0         0           0      0   \n",
       "...   ..    ...  ..   ...      ...   ...       ...         ...    ...   \n",
       "3276   0      0   0     0        0     0         0           0      0   \n",
       "3277   0      0   0     0        0     0         0           0      0   \n",
       "3278   0      0   0     0        0     0         0           0      0   \n",
       "3279   0      0   0     0        0     0         0           0      0   \n",
       "3280   0      0   0     0        0     0         0           0      0   \n",
       "\n",
       "      accepted  ...  yo  young  youngji  youtube  yt  yuri  zaimprowizowa  ze  \\\n",
       "0            0  ...   0      0        0        0   0     0              0   0   \n",
       "1            0  ...   0      0        0        0   0     0              0   0   \n",
       "2            0  ...   0      0        0        0   0     0              0   0   \n",
       "3            0  ...   0      0        0        0   0     0              0   0   \n",
       "4            0  ...   0      0        0        0   0     0              0   0   \n",
       "...        ...  ...  ..    ...      ...      ...  ..   ...            ...  ..   \n",
       "3276         0  ...   0      0        0        0   0     0              0   0   \n",
       "3277         0  ...   0      0        0        0   0     0              0   0   \n",
       "3278         0  ...   0      0        0        0   0     0              0   0   \n",
       "3279         0  ...   0      0        0        0   0     0              0   0   \n",
       "3280         0  ...   0      0        0        0   0     0              0   0   \n",
       "\n",
       "      zl  zoe  \n",
       "0      0    0  \n",
       "1      0    0  \n",
       "2      0    0  \n",
       "3      0    0  \n",
       "4      0    0  \n",
       "...   ..  ...  \n",
       "3276   0    0  \n",
       "3277   0    0  \n",
       "3278   0    0  \n",
       "3279   0    0  \n",
       "3280   0    0  \n",
       "\n",
       "[3281 rows x 2883 columns]"
      ]
     },
     "execution_count": 80,
     "metadata": {},
     "output_type": "execute_result"
    }
   ],
   "source": [
    "# create document-term matrix\n",
    "from sklearn.feature_extraction.text import CountVectorizer\n",
    "\n",
    "cv = CountVectorizer(stop_words='english')\n",
    "data_cv = cv.fit_transform(df['clean_round4'])\n",
    "data_tdm = pd.DataFrame(data_cv.toarray(), columns=cv.get_feature_names_out())\n",
    "data_tdm_index = data_tdm.index\n",
    "data_tdm"
   ]
  },
  {
   "cell_type": "code",
   "execution_count": 81,
   "metadata": {},
   "outputs": [],
   "source": [
    "# pickle for later use\n",
    "data_tdm.to_pickle('tdm.pkl')"
   ]
  },
  {
   "attachments": {},
   "cell_type": "markdown",
   "metadata": {},
   "source": [
    "### 3.EDA"
   ]
  },
  {
   "cell_type": "code",
   "execution_count": 92,
   "metadata": {},
   "outputs": [],
   "source": [
    "# look at the most common words\n",
    "# create a list of all the words in all the tweets\n",
    "tweet_ls = []\n",
    "for tweet in data_clean_3['text']:\n",
    "    words = tweet.split()\n",
    "    for word in words:\n",
    "        tweet_ls.append(word)"
   ]
  },
  {
   "cell_type": "code",
   "execution_count": 95,
   "metadata": {},
   "outputs": [
    {
     "data": {
      "text/plain": [
       "['nancy', 'wheeler', 'in', 'every', 'episode', 'of', 'i', 'cannot']"
      ]
     },
     "execution_count": 95,
     "metadata": {},
     "output_type": "execute_result"
    }
   ],
   "source": [
    "tweet_ls[0:8]"
   ]
  },
  {
   "cell_type": "code",
   "execution_count": 96,
   "metadata": {},
   "outputs": [
    {
     "data": {
      "text/plain": [
       "[('the', 2022),\n",
       " ('of', 1248),\n",
       " ('to', 1117),\n",
       " ('in', 948),\n",
       " ('season', 808),\n",
       " ('is', 708),\n",
       " ('i', 672),\n",
       " ('will', 628),\n",
       " ('and', 621),\n",
       " ('that', 554),\n",
       " ('a', 545),\n",
       " ('this', 492),\n",
       " ('duffer', 450),\n",
       " ('brothers', 449),\n",
       " ('have', 401),\n",
       " ('they', 374),\n",
       " ('episode', 344),\n",
       " ('not', 326),\n",
       " ('nancy', 321),\n",
       " ('eddie', 310),\n",
       " ('every', 297),\n",
       " ('wheeler', 293),\n",
       " ('final', 289),\n",
       " ('things', 277),\n",
       " ('be', 269),\n",
       " ('was', 259),\n",
       " ('writing', 255),\n",
       " ('me', 253),\n",
       " ('best', 245),\n",
       " ('it', 231),\n",
       " ('you', 228),\n",
       " ('scene', 226),\n",
       " ('were', 221),\n",
       " ('for', 221),\n",
       " ('say', 188),\n",
       " ('from', 187),\n",
       " ('about', 179),\n",
       " ('one', 178),\n",
       " ('some', 176),\n",
       " ('music', 173),\n",
       " ('scenes', 169),\n",
       " ('no', 167),\n",
       " ('improvised', 163),\n",
       " ('do', 160),\n",
       " ('my', 157),\n",
       " ('speedpainting', 155),\n",
       " ('fact', 154),\n",
       " ('next', 151),\n",
       " ('part', 150),\n",
       " ('gtgtgt', 145),\n",
       " ('stranger', 143),\n",
       " ('start', 142),\n",
       " ('via', 141),\n",
       " ('on', 140),\n",
       " ('we', 140),\n",
       " ('month', 140),\n",
       " ('he', 139),\n",
       " ('e', 137),\n",
       " ('show', 126),\n",
       " ('nao', 125),\n",
       " ('did', 123),\n",
       " ('am', 123),\n",
       " ('with', 120),\n",
       " ('now', 119),\n",
       " ('so', 118),\n",
       " ('are', 116),\n",
       " ('begin', 115),\n",
       " ('where', 115),\n",
       " ('expected', 110),\n",
       " ('came', 109),\n",
       " ('making', 108),\n",
       " ('just', 107),\n",
       " ('all', 103),\n",
       " ('fun', 102),\n",
       " ('going', 100),\n",
       " ('memory', 99),\n",
       " ('him', 99),\n",
       " ('there', 99),\n",
       " ('trick', 98),\n",
       " ('bloody', 98),\n",
       " ('fingerprints', 98),\n",
       " ('years', 94),\n",
       " ('talking', 94),\n",
       " ('but', 94),\n",
       " ('byers', 93),\n",
       " ('what', 93),\n",
       " ('today', 92),\n",
       " ('why', 92),\n",
       " ('if', 91),\n",
       " ('released', 90),\n",
       " ('big', 90),\n",
       " ('over', 90),\n",
       " ('up', 90),\n",
       " ('cannot', 89),\n",
       " ('right', 89),\n",
       " ('go', 89),\n",
       " ('yet', 87),\n",
       " ('ago', 86),\n",
       " ('love', 81),\n",
       " ('que', 79),\n",
       " ('at', 78),\n",
       " ('munson', 78),\n",
       " ('need', 77),\n",
       " ('boy', 75),\n",
       " ('like', 75),\n",
       " ('something', 74),\n",
       " ('back', 73),\n",
       " ('journey', 72),\n",
       " ('finale', 72),\n",
       " ('dustins', 72),\n",
       " ('more', 72),\n",
       " ('most', 71),\n",
       " ('broke', 71),\n",
       " ('focus', 71),\n",
       " ('his', 71),\n",
       " ('friendship', 71),\n",
       " ('huge', 70),\n",
       " ('want', 70),\n",
       " ('when', 70),\n",
       " ('revealed', 69),\n",
       " ('out', 69),\n",
       " ('augustthe', 69),\n",
       " ('premiere', 69),\n",
       " ('think', 69),\n",
       " ('max', 68),\n",
       " ('por', 68),\n",
       " ('happen', 67),\n",
       " ('hours', 64),\n",
       " ('esse', 63),\n",
       " ('brasil', 62),\n",
       " ('eu', 62),\n",
       " ('esperei', 62),\n",
       " ('tres', 62),\n",
       " ('temporadas', 62),\n",
       " ('beijo', 62),\n",
       " ('entt', 62),\n",
       " ('vem', 62),\n",
       " ('dizer', 62),\n",
       " ('exagero', 62),\n",
       " ('pois', 62),\n",
       " ('amp', 62),\n",
       " ('full', 61),\n",
       " ('would', 61),\n",
       " ('then', 61),\n",
       " ('its', 60),\n",
       " ('steve', 57),\n",
       " ('even', 56),\n",
       " ('has', 55),\n",
       " ('vecna', 54),\n",
       " ('how', 53),\n",
       " ('never', 53),\n",
       " ('her', 53),\n",
       " ('hawkins', 52),\n",
       " ('ever', 50),\n",
       " ('still', 50),\n",
       " ('off', 49),\n",
       " ('lot', 49),\n",
       " ('coming', 49),\n",
       " ('as', 49),\n",
       " ('long', 48),\n",
       " ('anyone', 48),\n",
       " ('badass', 47),\n",
       " ('vol', 47),\n",
       " ('got', 46),\n",
       " ('after', 46),\n",
       " ('lucas', 45),\n",
       " ('smooch', 45),\n",
       " ('augustsource', 45),\n",
       " ('been', 45),\n",
       " ('looking', 44),\n",
       " ('she', 44),\n",
       " ('s', 44),\n",
       " ('your', 43),\n",
       " ('too', 43),\n",
       " ('know', 43),\n",
       " ('least', 42),\n",
       " ('mike', 42),\n",
       " ('nice', 42),\n",
       " ('feel', 42),\n",
       " ('because', 42),\n",
       " ('according', 41),\n",
       " ('charts', 41),\n",
       " ('puppets', 41),\n",
       " ('again', 41),\n",
       " ('them', 40),\n",
       " ('x', 40),\n",
       " ('always', 40),\n",
       " ('spoilers', 40),\n",
       " ('isolated', 40),\n",
       " ('circle', 40),\n",
       " ('graduated', 39),\n",
       " ('new', 39),\n",
       " ('master', 39),\n",
       " ('by', 39),\n",
       " ('running', 39),\n",
       " ('teasing', 38),\n",
       " ('indiana', 38),\n",
       " ('everyone', 38),\n",
       " ('give', 38),\n",
       " ('being', 37),\n",
       " ('see', 36),\n",
       " ('kate', 36),\n",
       " ('aiming', 36),\n",
       " ('than', 35),\n",
       " ('guitar', 35),\n",
       " ('make', 34),\n",
       " ('metallica', 34),\n",
       " ('bush', 34),\n",
       " ('shit', 33),\n",
       " ('really', 33),\n",
       " ('moment', 33),\n",
       " ('or', 33),\n",
       " ('stop', 33),\n",
       " ('spoiler', 33),\n",
       " ('our', 32),\n",
       " ('who', 32),\n",
       " ('had', 32),\n",
       " ('alive', 32),\n",
       " ('time', 32),\n",
       " ('could', 32),\n",
       " ('thinking', 31),\n",
       " ('ok', 31),\n",
       " ('de', 31),\n",
       " ('head', 30),\n",
       " ('down', 30),\n",
       " ('finally', 30),\n",
       " ('character', 29),\n",
       " ('an', 29),\n",
       " ('reveal', 29),\n",
       " ('day', 28),\n",
       " ('can', 28),\n",
       " ('dustin', 28),\n",
       " ('may', 28),\n",
       " ('way', 28),\n",
       " ('shorter', 28),\n",
       " ('eleven', 27),\n",
       " ('alone', 27),\n",
       " ('rt', 27),\n",
       " ('actually', 27),\n",
       " ('okay', 27),\n",
       " ('us', 26),\n",
       " ('here', 26),\n",
       " ('left', 26),\n",
       " ('robin', 26),\n",
       " ('end', 25),\n",
       " ('real', 25),\n",
       " ('other', 25),\n",
       " ('munsons', 25),\n",
       " ('heart', 25),\n",
       " ('sm', 24),\n",
       " ('death', 24),\n",
       " ('everything', 24),\n",
       " ('said', 24),\n",
       " ('through', 24),\n",
       " ('should', 24),\n",
       " ('m', 24),\n",
       " ('watch', 24),\n",
       " ('sbjdkpj', 24),\n",
       " ('pocket', 24),\n",
       " ('many', 23),\n",
       " ('hero', 23),\n",
       " ('stedve', 23),\n",
       " ('edward', 23),\n",
       " ('el', 23),\n",
       " ('ab', 23),\n",
       " ('their', 23),\n",
       " ('guys', 23),\n",
       " ('y', 23),\n",
       " ('song', 23),\n",
       " ('omg', 23),\n",
       " ('puts', 23),\n",
       " ('owens', 22),\n",
       " ('handcuffed', 22),\n",
       " ('follow', 22),\n",
       " ('save', 22),\n",
       " ('hopper', 22),\n",
       " ('get', 22),\n",
       " ('jason', 22),\n",
       " ('hill', 22),\n",
       " ('chrissy', 22),\n",
       " ('whole', 22),\n",
       " ('thoughts', 21),\n",
       " ('good', 21),\n",
       " ('literally', 21),\n",
       " ('cry', 21),\n",
       " ('portrait', 21),\n",
       " ('strangerthings', 20),\n",
       " ('each', 20),\n",
       " ('away', 20),\n",
       " ('hey', 20),\n",
       " ('already', 19),\n",
       " ('also', 19),\n",
       " ('yeah', 19),\n",
       " ('july', 19),\n",
       " ('video', 19),\n",
       " ('these', 19),\n",
       " ('another', 19),\n",
       " ('well', 19),\n",
       " ('people', 19),\n",
       " ('pulling', 19),\n",
       " ('much', 18),\n",
       " ('watching', 18),\n",
       " ('having', 18),\n",
       " ('paladin', 18),\n",
       " ('eight', 18),\n",
       " ('little', 18),\n",
       " ('seen', 17),\n",
       " ('argyle', 17),\n",
       " ('made', 17),\n",
       " ('ended', 17),\n",
       " ('both', 17),\n",
       " ('knew', 17),\n",
       " ('remember', 17),\n",
       " ('strings', 17),\n",
       " ('squeaked', 17),\n",
       " ('charm', 17),\n",
       " ('sticker', 17),\n",
       " ('possessed', 17),\n",
       " ('joseph', 16),\n",
       " ('kids', 16),\n",
       " ('year', 16),\n",
       " ('volume', 16),\n",
       " ('eddies', 16),\n",
       " ('writers', 16),\n",
       " ('very', 16),\n",
       " ('hell', 16),\n",
       " ('upside', 16),\n",
       " ('moots', 15),\n",
       " ('jopper', 15),\n",
       " ('favorite', 15),\n",
       " ('reaction', 15),\n",
       " ('joyce', 15),\n",
       " ('harrington', 15),\n",
       " ('kiss', 15),\n",
       " ('dnd', 15),\n",
       " ('powerful', 15),\n",
       " ('week', 15),\n",
       " ('happy', 15),\n",
       " ('everytime', 15),\n",
       " ('believe', 15),\n",
       " ('die', 15),\n",
       " ('girl', 15),\n",
       " ('erica', 15),\n",
       " ('baby...', 15),\n",
       " ('come', 14),\n",
       " ('characters', 14),\n",
       " ('tv', 14),\n",
       " ('mayfield', 14),\n",
       " ('miss', 14),\n",
       " ('hope', 14),\n",
       " ('only', 14),\n",
       " ('oh', 14),\n",
       " ('join', 14),\n",
       " ('respect', 14),\n",
       " ('fucking', 14),\n",
       " ('insane', 14),\n",
       " ('quinn', 13),\n",
       " ('friends', 13),\n",
       " ('deserve', 13),\n",
       " ('man', 13),\n",
       " ('let', 13),\n",
       " ('ending', 13),\n",
       " ('play', 13),\n",
       " ('szoxbm', 13),\n",
       " ('chance', 13),\n",
       " ('bats', 13),\n",
       " ('life', 13),\n",
       " ('sick', 13),\n",
       " ('together', 13),\n",
       " ('ways', 13),\n",
       " ('look', 13),\n",
       " ('crying', 13),\n",
       " ('post', 13),\n",
       " ('david', 13),\n",
       " ('seasons', 13),\n",
       " ('ready', 13),\n",
       " ('la', 13),\n",
       " ('before', 13),\n",
       " ('watched', 13),\n",
       " ('thing', 13),\n",
       " ('take', 12),\n",
       " ('fans', 12),\n",
       " ('st', 12),\n",
       " ('doodles', 12),\n",
       " ('last', 12),\n",
       " ('hes', 12),\n",
       " ('needed', 12),\n",
       " ('someone', 12),\n",
       " ('interact', 12),\n",
       " ('wish', 12),\n",
       " ('himself', 12),\n",
       " ('hears', 12),\n",
       " ('canon', 12),\n",
       " ('thriving', 12),\n",
       " ('waking', 12),\n",
       " ('joe', 12),\n",
       " ('soon', 12),\n",
       " ('does', 11),\n",
       " ('jonathan', 11),\n",
       " ('first', 11),\n",
       " ('edit', 11),\n",
       " ('sadie', 11),\n",
       " ('noticed', 11),\n",
       " ('banging', 11),\n",
       " ('seat', 11),\n",
       " ('stole', 11),\n",
       " ('van', 11),\n",
       " ('moments', 11),\n",
       " ('exclusive', 11),\n",
       " ('ill', 11),\n",
       " ('acting', 11),\n",
       " ('wait', 11),\n",
       " ('jim', 11),\n",
       " ('attractive', 11),\n",
       " ('bring', 11),\n",
       " ('spoilersmax', 11),\n",
       " ('exist', 11),\n",
       " ('deserved', 11),\n",
       " ('honestly', 11),\n",
       " ('hate', 11),\n",
       " ('alert', 11),\n",
       " ('sooo', 11),\n",
       " ('amazing', 10),\n",
       " ('check', 10),\n",
       " ('playing', 10),\n",
       " ('secret', 10),\n",
       " ('win', 10),\n",
       " ('trying', 10),\n",
       " ('town', 10),\n",
       " ('tattoos...stranger', 10),\n",
       " ('fourth', 10),\n",
       " ('...', 10),\n",
       " ('funny', 10),\n",
       " ('sounded', 10),\n",
       " ('dedicated', 10),\n",
       " ('possible', 10),\n",
       " ('episodes', 10),\n",
       " ('prove', 10),\n",
       " ('yourself', 10),\n",
       " ('winner', 10),\n",
       " ('getting', 10),\n",
       " ('winona', 10),\n",
       " ('sra', 10),\n",
       " ('series', 10),\n",
       " ('any', 10),\n",
       " ('demand', 10),\n",
       " ('surviving', 10),\n",
       " ('three', 10),\n",
       " ('world', 10),\n",
       " ('such', 10),\n",
       " ('maxs', 10),\n",
       " ('netflix', 10),\n",
       " ('ronance', 10),\n",
       " ('!!stranger', 10),\n",
       " ('fits', 10),\n",
       " ('pick', 10),\n",
       " ('liked', 10),\n",
       " ('villain', 10),\n",
       " ('beginning', 9),\n",
       " ('probably', 9),\n",
       " ('steves', 9),\n",
       " ('target', 9),\n",
       " ('funko', 9),\n",
       " ('pop', 9),\n",
       " ('older', 9),\n",
       " ('great', 9),\n",
       " ('o', 9),\n",
       " ('god', 9),\n",
       " ('art', 9),\n",
       " ('keep', 9),\n",
       " ('duffers', 9),\n",
       " ('saw', 9),\n",
       " ('fast', 9),\n",
       " ('proof', 9),\n",
       " ('ss', 9),\n",
       " ('tell', 9),\n",
       " ('le', 9),\n",
       " ('started', 9),\n",
       " ('nothing', 9),\n",
       " ('without', 9),\n",
       " ('while', 9),\n",
       " ('please', 9),\n",
       " ('denialbut', 9),\n",
       " ('colors', 9),\n",
       " ('main', 8),\n",
       " ('cried', 8),\n",
       " ('lumax', 8),\n",
       " ('fancam', 8),\n",
       " ('into', 8),\n",
       " ('took', 8),\n",
       " ('myself', 8),\n",
       " ('posted', 8),\n",
       " ('maybe', 8),\n",
       " ('needs', 8),\n",
       " ('own', 8),\n",
       " ('face', 8),\n",
       " ('done', 8),\n",
       " ('stopped', 8),\n",
       " ('sobbing', 8),\n",
       " ('giveaway', 8),\n",
       " ('hzl', 8),\n",
       " ('cekilis', 8),\n",
       " ('sol', 8),\n",
       " ('zl', 8),\n",
       " ('harbour', 8),\n",
       " ('se', 8),\n",
       " ('call', 8),\n",
       " ('help', 8),\n",
       " ('better', 8),\n",
       " ('temporada', 8),\n",
       " ('dude', 8),\n",
       " ('iconic', 7),\n",
       " ('tweet', 7),\n",
       " ('kill', 7),\n",
       " ('between', 7),\n",
       " ('home', 7),\n",
       " ('guns...', 7),\n",
       " ('genres', 7),\n",
       " ('wrecked', 7),\n",
       " ('especially', 7),\n",
       " ('those', 7),\n",
       " ('cuando', 7),\n",
       " ('como', 7),\n",
       " ('question', 7),\n",
       " ('steddie', 7),\n",
       " ('wahoo', 7),\n",
       " ('killme', 7),\n",
       " ('money', 7),\n",
       " ('performance', 7),\n",
       " ('tiktok', 7),\n",
       " ('top', 7),\n",
       " ('hurts', 7),\n",
       " ('four', 7),\n",
       " ('da', 7),\n",
       " ('role', 7),\n",
       " ('boyfriend', 7),\n",
       " ('store', 7),\n",
       " ('quick', 7),\n",
       " ('ryder', 7),\n",
       " ('keeping', 7),\n",
       " ('authenticshed', 7),\n",
       " ('minute', 7),\n",
       " ('tiny', 7),\n",
       " ('details', 7),\n",
       " ('gets', 7),\n",
       " ('finished', 7),\n",
       " ('high', 7),\n",
       " ('star', 7),\n",
       " ('place', 7),\n",
       " ('separate', 7),\n",
       " ('helped', 7),\n",
       " ('times', 7),\n",
       " ('else', 7),\n",
       " ('hated', 7),\n",
       " ('break', 7),\n",
       " ('saying', 7),\n",
       " ('makes', 7),\n",
       " ('epic', 7),\n",
       " ('rts', 6),\n",
       " ('stan', 6),\n",
       " ('six', 6),\n",
       " ('able', 6),\n",
       " ('cast', 6),\n",
       " ('true', 6),\n",
       " ('rest', 6),\n",
       " ('ass', 6),\n",
       " ('certain', 6),\n",
       " ('taste', 6),\n",
       " ('fight', 6),\n",
       " ('sf', 6),\n",
       " ('fix', 6),\n",
       " ('dropped', 6),\n",
       " ('hearts', 6),\n",
       " ('papa', 6),\n",
       " ('loved', 6),\n",
       " ('fought', 6),\n",
       " ('seeing', 6),\n",
       " ('car', 6),\n",
       " ('con', 6),\n",
       " ('shoplift', 6),\n",
       " ('convenience', 6),\n",
       " ('afterwards', 6),\n",
       " ('person', 6),\n",
       " ('weekend', 6),\n",
       " ('twt', 6),\n",
       " ('id', 6),\n",
       " ('process', 6),\n",
       " ('vecnas', 6),\n",
       " ('yes', 6),\n",
       " ('remix', 6),\n",
       " ('date', 6),\n",
       " ('group', 6),\n",
       " ('weird', 6),\n",
       " ('two', 6),\n",
       " ('wills', 6),\n",
       " ('until', 6),\n",
       " ('once', 6),\n",
       " ('movie', 6),\n",
       " ('friday', 6),\n",
       " ('pls', 6),\n",
       " ('ser', 6),\n",
       " ('during', 6),\n",
       " ('tried', 6),\n",
       " ('gate', 6),\n",
       " ('ep', 6),\n",
       " ('w', 6),\n",
       " ('lately', 6),\n",
       " ('almost', 6),\n",
       " ('design', 6),\n",
       " ('different', 6),\n",
       " ('team', 6),\n",
       " ('telling', 6),\n",
       " ('si', 6),\n",
       " ('work', 6),\n",
       " ('thank', 6),\n",
       " ('cuz', 6),\n",
       " ('sink', 6),\n",
       " ('muy', 6),\n",
       " ('days', 6),\n",
       " ('anything', 6),\n",
       " ('holding', 6),\n",
       " ('en', 6),\n",
       " ('django', 6),\n",
       " ('nail', 6),\n",
       " ('set', 5),\n",
       " ('appreciated', 5),\n",
       " ('context', 5),\n",
       " ('fandom', 5),\n",
       " ('since', 5),\n",
       " ('pride', 5),\n",
       " ('history', 5),\n",
       " ('worst', 5),\n",
       " ('thread', 5),\n",
       " ('gave', 5),\n",
       " ('called', 5),\n",
       " ('freak', 5),\n",
       " ('finishing', 5),\n",
       " ('ii', 5),\n",
       " ('spoilerswe', 5),\n",
       " ('upon', 5),\n",
       " ('obsession', 5),\n",
       " ('religious', 5),\n",
       " ('imagery', 5),\n",
       " ('smoyjgz', 5),\n",
       " ('icymi', 5),\n",
       " ('hit', 5),\n",
       " ('wanted', 5),\n",
       " ('graduate', 5),\n",
       " ('summary', 5),\n",
       " ('gaten', 5),\n",
       " ('award', 5),\n",
       " ('phenomenal', 5),\n",
       " ('ensure', 5),\n",
       " ('threeyear', 5),\n",
       " ('shattered', 5),\n",
       " ('plenty', 5),\n",
       " ('filmlength', 5),\n",
       " ('occupied', 5),\n",
       " ('knowing', 5),\n",
       " ('crazy', 5),\n",
       " ('five', 5),\n",
       " ('article', 5),\n",
       " ('run', 5),\n",
       " ('saved', 5),\n",
       " ('story', 5),\n",
       " ('kept', 5),\n",
       " ('tanto', 5),\n",
       " ('ver', 5),\n",
       " ('protect', 5),\n",
       " ('insight', 5),\n",
       " ('supremacy', 5),\n",
       " ('outside', 5),\n",
       " ('silly', 5),\n",
       " ('stay', 5),\n",
       " ('channel', 5),\n",
       " ('whatever', 5),\n",
       " ('baby', 5),\n",
       " ('instead', 5),\n",
       " ('realize', 5),\n",
       " ('legend', 5),\n",
       " ('beat', 5),\n",
       " ('ahead', 5),\n",
       " ('beautiful', 5),\n",
       " ('gift', 5),\n",
       " ('keerys', 5),\n",
       " ('hold', 5),\n",
       " ('gun', 5),\n",
       " ('bullshit', 5),\n",
       " ('therehes', 5),\n",
       " ('mikes', 5),\n",
       " ('whined', 5),\n",
       " ('favourite', 5),\n",
       " ('addition', 5),\n",
       " ('arrived', 5),\n",
       " ('monster', 5),\n",
       " ('happened', 5),\n",
       " ('open', 5),\n",
       " ('far', 5),\n",
       " ('bones', 5),\n",
       " ('esta', 5),\n",
       " ('emotions', 5),\n",
       " ('opening', 5),\n",
       " ('madonna', 5),\n",
       " ('though', 5),\n",
       " ('redeemed', 5),\n",
       " ('itself', 5),\n",
       " ('wholesome', 5),\n",
       " ('taking', 5),\n",
       " ('plays', 5),\n",
       " ('fake', 5),\n",
       " ('thought', 5),\n",
       " ('trailer', 5),\n",
       " ('went', 5),\n",
       " ('comenzara', 5),\n",
       " ('escrita', 5),\n",
       " ('pronto', 5),\n",
       " ('svyu', 5),\n",
       " ('reason', 5),\n",
       " ('goes', 5),\n",
       " ('reminder', 5),\n",
       " ('guy', 5),\n",
       " ('appreciation', 5),\n",
       " ('hype', 5),\n",
       " ('favs', 4),\n",
       " ('enough', 4),\n",
       " ('mean', 4),\n",
       " ('sinclair', 4),\n",
       " ('ship', 4),\n",
       " ('fc', 4),\n",
       " ('cute', 4),\n",
       " ('boys', 4),\n",
       " ('byler', 4),\n",
       " ('gay', 4),\n",
       " ('noah', 4),\n",
       " ('vs', 4),\n",
       " ('demogorgon', 4),\n",
       " ('awesome', 4),\n",
       " ('sb', 4),\n",
       " ('streaming', 4),\n",
       " ('deal', 4),\n",
       " ('les', 4),\n",
       " ('forget', 4),\n",
       " ('matarazzo', 4),\n",
       " ('henry', 4),\n",
       " ('mad', 4),\n",
       " ('serie', 4),\n",
       " ('mientras', 4),\n",
       " ('yo', 4),\n",
       " ('alright', 4),\n",
       " ('hii', 4),\n",
       " ('retweet', 4),\n",
       " ('chapter', 4),\n",
       " ('reading', 4),\n",
       " ('mommy', 4),\n",
       " ('daddy', 4),\n",
       " ('idc', 4),\n",
       " ('ambulance', 4),\n",
       " ('knees', 4),\n",
       " ('kabir', 4),\n",
       " ('youtube', 4),\n",
       " ('bitch', 4),\n",
       " ('enjoy', 4),\n",
       " ('caleb', 4),\n",
       " ('beating', 4),\n",
       " ('vous', 4),\n",
       " ('scared', 4),\n",
       " ('side', 4),\n",
       " ('bad', 4),\n",
       " ('dead', 4),\n",
       " ('put', 4),\n",
       " ('mi', 4),\n",
       " ('working', 4),\n",
       " ('smile', 4),\n",
       " ('wow', 4),\n",
       " ('poster', 4),\n",
       " ('clear', 4),\n",
       " ('newest', 4),\n",
       " ('intensity', 4),\n",
       " ('riff', 4),\n",
       " ('jumped', 4),\n",
       " ('table', 4),\n",
       " ('cafeteria', 4),\n",
       " ('proclaimed', 4),\n",
       " ('forced', 4),\n",
       " ('conformity', 4),\n",
       " ('emmy', 4),\n",
       " ('behind', 4),\n",
       " ('natalia', 4),\n",
       " ('dyer', 4),\n",
       " ('complicated', 4),\n",
       " ('triangle', 4),\n",
       " ('ends', 4),\n",
       " ('jock', 4),\n",
       " ('arms', 4),\n",
       " ('exactly', 4),\n",
       " ('diploma', 4),\n",
       " ('dying', 4),\n",
       " ('mais', 4),\n",
       " ('closed', 4),\n",
       " ('heartbreaking', 4),\n",
       " ('starting', 4),\n",
       " ('millie', 4),\n",
       " ('breaking', 4),\n",
       " ('emotionally', 4),\n",
       " ('kings', 4),\n",
       " ('coma', 4),\n",
       " ('slow', 4),\n",
       " ('videos', 4),\n",
       " ('isso', 4),\n",
       " ('heard', 4),\n",
       " ('name', 4),\n",
       " ('icon', 4),\n",
       " ('therapy', 4),\n",
       " ('flyid', 4),\n",
       " ('wed', 4),\n",
       " ('funnykdsjd', 4),\n",
       " ('told', 4),\n",
       " ('warzone', 4),\n",
       " ('wrong', 4),\n",
       " ('point', 4),\n",
       " ('catch', 4),\n",
       " ('synth', 4),\n",
       " ('round', 4),\n",
       " ('louis', 4),\n",
       " ('endgame', 4),\n",
       " ('laugh', 4),\n",
       " ('bard', 4),\n",
       " ('totally', 4),\n",
       " ('sawnotice', 4),\n",
       " ('justice', 4),\n",
       " ('wants', 4),\n",
       " ('says', 4),\n",
       " ('room', 4),\n",
       " ('hair', 4),\n",
       " ('soy', 4),\n",
       " ('sleeping', 4),\n",
       " ('finish', 4),\n",
       " ('gel', 4),\n",
       " ('variants', 3),\n",
       " ('based', 3),\n",
       " ('track', 3),\n",
       " ('record', 3),\n",
       " ('hi', 3),\n",
       " ('create', 3),\n",
       " ('emotional', 3),\n",
       " ('couples', 3),\n",
       " ('comes', 3),\n",
       " ('become', 3),\n",
       " ('schnapp', 3),\n",
       " ('exceptional', 3),\n",
       " ('highly', 3),\n",
       " ('requested', 3),\n",
       " ('twitter', 3),\n",
       " ('un', 3),\n",
       " ('strangers', 3),\n",
       " ('goodbye', 3),\n",
       " ('campbell', 3),\n",
       " ('major', 3),\n",
       " ('spotify', 3),\n",
       " ('com', 3),\n",
       " ('ja', 3),\n",
       " ('vraiment', 3),\n",
       " ('dans', 3),\n",
       " ('meilleurs', 3),\n",
       " ('cest', 3),\n",
       " ('tellement', 3),\n",
       " ('masterclass', 3),\n",
       " ('mind', 3),\n",
       " ('building', 3),\n",
       " ('strong', 3),\n",
       " ('split', 3),\n",
       " ('szl', 3),\n",
       " ('tan', 3),\n",
       " ('plot', 3),\n",
       " ('hablandole', 3),\n",
       " ('close', 3),\n",
       " ('costs', 3),\n",
       " ('notice', 3),\n",
       " ('pm', 3),\n",
       " ('learning', 3),\n",
       " ('others', 3),\n",
       " ('lo', 3),\n",
       " ('siblings', 3),\n",
       " ('parents', 3),\n",
       " ('endswe', 3),\n",
       " ('official', 3),\n",
       " ('holy', 3),\n",
       " ('fuck', 3),\n",
       " ('expect', 3),\n",
       " ('doing', 3),\n",
       " ('club', 3),\n",
       " ('powers', 3),\n",
       " ('pain', 3),\n",
       " ('worlds', 3),\n",
       " ('remixed', 3),\n",
       " ('theme', 3),\n",
       " ('unlocked', 3),\n",
       " ('stancy', 3),\n",
       " ('black', 3),\n",
       " ('seems', 3),\n",
       " ('game', 3),\n",
       " ('kid', 3),\n",
       " ('talk', 3),\n",
       " ('rock', 3),\n",
       " ('battle', 3),\n",
       " ('learn', 3),\n",
       " ('night', 3),\n",
       " ('short', 3),\n",
       " ('vidio', 3),\n",
       " ('completely', 3),\n",
       " ('killed', 3),\n",
       " ('credit', 3),\n",
       " ('anytime', 3),\n",
       " ('firmly', 3),\n",
       " ('needle', 3),\n",
       " ('drops', 3),\n",
       " ('jawdropping', 3),\n",
       " ('gold', 3),\n",
       " ('mention', 3),\n",
       " ('perfect', 3),\n",
       " ('sense', 3),\n",
       " ('sacrificed', 3),\n",
       " ('hearing', 3),\n",
       " ('planned', 3),\n",
       " ('buy', 3),\n",
       " ('este', 3),\n",
       " ('same', 3),\n",
       " ('old', 3),\n",
       " ('school', 3),\n",
       " ('ground', 3),\n",
       " ('goddamn', 3),\n",
       " ('hug', 3),\n",
       " ('imagine', 3),\n",
       " ('summer', 3),\n",
       " ('fate', 3),\n",
       " ('wondering', 3),\n",
       " ('used', 3),\n",
       " ('nearly', 3),\n",
       " ('letter', 3),\n",
       " ('truly', 3),\n",
       " ('stuff', 3),\n",
       " ('related', 3),\n",
       " ('sitting', 3),\n",
       " ('free', 3),\n",
       " ('website', 3),\n",
       " ('introduce', 3),\n",
       " ('connection', 3),\n",
       " ('behindthescenes', 3),\n",
       " ('missing', 3),\n",
       " ('due', 3),\n",
       " ('lives', 3),\n",
       " ('painting', 3),\n",
       " ('background', 3),\n",
       " ('felt', 3),\n",
       " ('looks', 3),\n",
       " ('allegations', 3),\n",
       " ('tomorrow', 3),\n",
       " ('n', 3),\n",
       " ('purple', 3),\n",
       " ('spoilersidk', 3),\n",
       " ('mood', 3),\n",
       " ('dirty', 3),\n",
       " ('warning', 3),\n",
       " ('babysitter', 3),\n",
       " ('hear', 3),\n",
       " ('live', 3),\n",
       " ('es', 3),\n",
       " ('ya', 3),\n",
       " ('shows', 3),\n",
       " ('sz', 3),\n",
       " ('spoilersteve', 3),\n",
       " ('vivo', 3),\n",
       " ('morto', 3),\n",
       " ('di', 3),\n",
       " ('burn', 3),\n",
       " ('mutuals', 3),\n",
       " ('guide', 3),\n",
       " ('wake', 3),\n",
       " ('entire', 3),\n",
       " ('helloo', 3),\n",
       " ('likert', 3),\n",
       " ('fish', 3),\n",
       " ('must', 3),\n",
       " ('infinity', 3),\n",
       " ('war', 3),\n",
       " ('definitely', 3),\n",
       " ('murray', 3),\n",
       " ('review', 3),\n",
       " ('chaos', 3),\n",
       " ('second', 3),\n",
       " ('cheered', 3),\n",
       " ('paolo', 3),\n",
       " ('jabari', 3),\n",
       " ('feed', 3),\n",
       " ('road', 3),\n",
       " ('subs', 3),\n",
       " ('fov', 3),\n",
       " ('hurt', 3),\n",
       " ('fan', 3),\n",
       " ('bonus', 3),\n",
       " ...]"
      ]
     },
     "execution_count": 96,
     "metadata": {},
     "output_type": "execute_result"
    }
   ],
   "source": [
    "from collections import Counter\n",
    "Counter = Counter(tweet_ls)\n",
    "\n",
    "Counter.most_common()"
   ]
  },
  {
   "cell_type": "code",
   "execution_count": 108,
   "metadata": {},
   "outputs": [],
   "source": [
    "# clearly the stopwords in countVectorizer are not that great\n",
    "# retry with custom stop-words\n",
    "\n",
    "add_stopwords = ['episode', 'nancy', 'eddie', 'wheeler', 'duffer', 'eleven', 'will', 'byers' 'joseph', 'quinn', \n",
    "'steve', 'lucas', 'sinclair', 'joyce', 'brothers']\n",
    "\n",
    "# update TDM with new list of stop words\n",
    "from sklearn.feature_extraction import text\n",
    "from sklearn.feature_extraction.text import CountVectorizer\n",
    "\n",
    "# read cleaned data\n",
    "corpus = pd.read_pickle('corpus.pkl')\n",
    "\n",
    "# add new stop words\n",
    "stop_words = text.ENGLISH_STOP_WORDS.union(add_stopwords)\n",
    "\n",
    "# recreate TDM\n",
    "cv = CountVectorizer(stop_words=stop_words)\n",
    "data_cv = cv.fit_transform(corpus.text)\n",
    "data_stop = pd.DataFrame(data_cv.toarray(), columns=cv.get_feature_names_out())\n",
    "data_stop.index = corpus.index\n"
   ]
  },
  {
   "cell_type": "code",
   "execution_count": 109,
   "metadata": {},
   "outputs": [],
   "source": [
    "# pickle TDM\n",
    "import pickle\n",
    "pickle.dump(cv, open('cv_stop.pkl', 'wb'))\n",
    "data_stop.to_pickle('tdm_stop.pkl')"
   ]
  },
  {
   "cell_type": "code",
   "execution_count": 110,
   "metadata": {},
   "outputs": [],
   "source": [
    "tweet_ls = [token for token in tweet_ls if token not in stop_words]\n",
    "tweet_words = ' '.join(tweet_ls)"
   ]
  },
  {
   "cell_type": "code",
   "execution_count": 111,
   "metadata": {},
   "outputs": [],
   "source": [
    "import matplotlib.pyplot as plt\n",
    "from wordcloud import WordCloud\n",
    "\n",
    "wc = WordCloud(stopwords=stop_words, background_color='white',colormap = 'Dark2', max_font_size=40, random_state=2022, max_words=100)"
   ]
  },
  {
   "cell_type": "code",
   "execution_count": 112,
   "metadata": {},
   "outputs": [
    {
     "data": {
      "text/plain": [
       "(-0.5, 399.5, 199.5, -0.5)"
      ]
     },
     "execution_count": 112,
     "metadata": {},
     "output_type": "execute_result"
    },
    {
     "data": {
      "image/png": "[encoded data removed]",
      "text/plain": [
       "<Figure size 1152x432 with 1 Axes>"
      ]
     },
     "metadata": {
      "needs_background": "light"
     },
     "output_type": "display_data"
    }
   ],
   "source": [
    "plt.rcParams['figure.figsize'] = (16, 6)\n",
    "wc.generate(tweet_words)\n",
    "plt.title('Stranger Things Tweets')\n",
    "plt.imshow(wc, interpolation='bilinear')\n",
    "plt.axis('off')"
   ]
  },
  {
   "attachments": {},
   "cell_type": "markdown",
   "metadata": {
    "datalore": {
     "hide_input_from_viewers": false,
     "hide_output_from_viewers": false,
     "type": "MD"
    }
   },
   "source": [
    "### 3. Lexicon-based sentiment analysis\n",
    "\n",
    "In this section, we are going to find sentiments of the tweets using a few common lexicons.  \n",
    "*AFINN*: lexicon assigns phrases a score from -5 to 5 where -5 is the negative sentiment and 5 indicates positive sentiment.  \n",
    "\n",
    "*Here, in lexicon based sentiment analysis we already have a given set of dictionary of words with each labelled as positive negative, neutral sentiments along with polarity , parts of speech and subjectivity classifiers, mood, modality and the like. A sentence is tokenized and each token is matched with the available words in the model to find out its context and sentiment (if any). A combining function such as sum or average is taken to make the final prediction*\n",
    "\n",
    "*SentiNet*: used for opinion mining; results in scores, positive, negative, and objective.\n",
    "\n",
    "*VADER*: Valence Aware Dictionary and Sentiment Reasoner - this lexicon is specifically attuned to sentiments expressed in social media. It is open-source and is able to detect polarity and intensity of emotion diretly to unlabeled data. \n",
    "\n",
    "One thing to note is that these lexicons are based on unigrams."
   ]
  },
  {
   "cell_type": "code",
   "execution_count": 113,
   "metadata": {
    "datalore": {
     "hide_input_from_viewers": false,
     "hide_output_from_viewers": false,
     "type": "CODE"
    }
   },
   "outputs": [
    {
     "data": {
      "text/plain": [
       "3.0"
      ]
     },
     "execution_count": 113,
     "metadata": {},
     "output_type": "execute_result"
    }
   ],
   "source": [
    "# check it out!\n",
    "from afinn import Afinn\n",
    "afn = Afinn(emoticons=True)\n",
    "afn.score('I love this movie')"
   ]
  },
  {
   "cell_type": "code",
   "execution_count": 109,
   "metadata": {
    "datalore": {
     "hide_input_from_viewers": false,
     "hide_output_from_viewers": false,
     "type": "CODE"
    }
   },
   "outputs": [],
   "source": [
    "# get sentiment lexicons\n",
    "# get the AFINN lexicon\n",
    "# !pip install afinn\n",
    "tweets = data['clean_tweet']"
   ]
  },
  {
   "cell_type": "code",
   "execution_count": 110,
   "metadata": {
    "datalore": {
     "hide_input_from_viewers": false,
     "hide_output_from_viewers": false,
     "type": "CODE"
    }
   },
   "outputs": [
    {
     "data": {
      "text/plain": [
       "'cannot rn strangerthings'"
      ]
     },
     "metadata": {},
     "output_type": "display_data"
    }
   ],
   "source": [
    "tweets[1]"
   ]
  },
  {
   "cell_type": "code",
   "execution_count": 115,
   "metadata": {
    "datalore": {
     "hide_input_from_viewers": false,
     "hide_output_from_viewers": false,
     "type": "CODE"
    }
   },
   "outputs": [],
   "source": [
    "# compute scores (polarity) and labels\n",
    "scores = [afn.score(tweet) for tweet in corpus.text]\n",
    "sentiment = ['positive' if score > 0\n",
    "                          else 'negative' if score < 0\n",
    "                              else 'neutral'\n",
    "                                  for score in scores]\n",
    "     \n",
    "# dataframe creation\n",
    "af_df = pd.DataFrame()\n",
    "af_df['tweet'] =  corpus.text\n",
    "af_df['scores'] = scores\n",
    "af_df['sentiments'] = sentiment"
   ]
  },
  {
   "cell_type": "code",
   "execution_count": 116,
   "metadata": {
    "datalore": {
     "hide_input_from_viewers": false,
     "hide_output_from_viewers": false,
     "type": "CODE"
    }
   },
   "outputs": [
    {
     "data": {
      "text/html": [
       "<div>\n",
       "<style scoped>\n",
       "    .dataframe tbody tr th:only-of-type {\n",
       "        vertical-align: middle;\n",
       "    }\n",
       "\n",
       "    .dataframe tbody tr th {\n",
       "        vertical-align: top;\n",
       "    }\n",
       "\n",
       "    .dataframe thead th {\n",
       "        text-align: right;\n",
       "    }\n",
       "</style>\n",
       "<table border=\"1\" class=\"dataframe\">\n",
       "  <thead>\n",
       "    <tr style=\"text-align: right;\">\n",
       "      <th></th>\n",
       "      <th>tweet</th>\n",
       "      <th>scores</th>\n",
       "      <th>sentiments</th>\n",
       "    </tr>\n",
       "  </thead>\n",
       "  <tbody>\n",
       "    <tr>\n",
       "      <th>0</th>\n",
       "      <td>nancy wheeler in every episode of</td>\n",
       "      <td>0.0</td>\n",
       "      <td>neutral</td>\n",
       "    </tr>\n",
       "    <tr>\n",
       "      <th>1</th>\n",
       "      <td>i cannot do this right now</td>\n",
       "      <td>0.0</td>\n",
       "      <td>neutral</td>\n",
       "    </tr>\n",
       "    <tr>\n",
       "      <th>2</th>\n",
       "      <td>years ago today  season  was released</td>\n",
       "      <td>0.0</td>\n",
       "      <td>neutral</td>\n",
       "    </tr>\n",
       "    <tr>\n",
       "      <th>3</th>\n",
       "      <td>speedpainting to  music</td>\n",
       "      <td>0.0</td>\n",
       "      <td>neutral</td>\n",
       "    </tr>\n",
       "    <tr>\n",
       "      <th>4</th>\n",
       "      <td>the most iconic scenes of</td>\n",
       "      <td>0.0</td>\n",
       "      <td>neutral</td>\n",
       "    </tr>\n",
       "    <tr>\n",
       "      <th>5</th>\n",
       "      <td>nancy wheeler in every episode of</td>\n",
       "      <td>0.0</td>\n",
       "      <td>neutral</td>\n",
       "    </tr>\n",
       "    <tr>\n",
       "      <th>6</th>\n",
       "      <td>my boy graduated    sm</td>\n",
       "      <td>0.0</td>\n",
       "      <td>neutral</td>\n",
       "    </tr>\n",
       "    <tr>\n",
       "      <th>7</th>\n",
       "      <td>many thoughts head full</td>\n",
       "      <td>0.0</td>\n",
       "      <td>neutral</td>\n",
       "    </tr>\n",
       "    <tr>\n",
       "      <th>8</th>\n",
       "      <td>this scene broke me</td>\n",
       "      <td>-1.0</td>\n",
       "      <td>negative</td>\n",
       "    </tr>\n",
       "    <tr>\n",
       "      <th>9</th>\n",
       "      <td>how many variants does it take</td>\n",
       "      <td>0.0</td>\n",
       "      <td>neutral</td>\n",
       "    </tr>\n",
       "  </tbody>\n",
       "</table>\n",
       "</div>"
      ],
      "text/plain": [
       "                                       tweet  scores sentiments\n",
       "0       nancy wheeler in every episode of        0.0    neutral\n",
       "1               i cannot do this right now       0.0    neutral\n",
       "2   years ago today  season  was released        0.0    neutral\n",
       "3                 speedpainting to  music        0.0    neutral\n",
       "4            the most iconic scenes of           0.0    neutral\n",
       "5       nancy wheeler in every episode of        0.0    neutral\n",
       "6                     my boy graduated    sm     0.0    neutral\n",
       "7                many thoughts head full         0.0    neutral\n",
       "8                     this scene broke me       -1.0   negative\n",
       "9       how many variants does it take           0.0    neutral"
      ]
     },
     "execution_count": 116,
     "metadata": {},
     "output_type": "execute_result"
    }
   ],
   "source": [
    "af_df[:10]"
   ]
  },
  {
   "cell_type": "code",
   "execution_count": 123,
   "metadata": {},
   "outputs": [
    {
     "data": {
      "text/plain": [
       "count    3281.000000\n",
       "mean        0.419994\n",
       "std         2.190003\n",
       "min       -14.000000\n",
       "25%         0.000000\n",
       "50%         0.000000\n",
       "75%         1.000000\n",
       "max        15.000000\n",
       "Name: scores, dtype: float64"
      ]
     },
     "execution_count": 123,
     "metadata": {},
     "output_type": "execute_result"
    }
   ],
   "source": [
    "af_df['scores'].describe()"
   ]
  },
  {
   "cell_type": "code",
   "execution_count": 117,
   "metadata": {
    "datalore": {
     "hide_input_from_viewers": false,
     "hide_output_from_viewers": false,
     "type": "CODE"
    }
   },
   "outputs": [
    {
     "name": "stdout",
     "output_type": "stream",
     "text": [
      "The general AFINN score is:  0.4199939042974703\n"
     ]
    }
   ],
   "source": [
    "# we can create a corpus level sentiment by averaging the scores of the tweets\n",
    "\n",
    "print('The general AFINN score is: ', sum(af_df['scores'])/len(af_df))"
   ]
  },
  {
   "attachments": {},
   "cell_type": "markdown",
   "metadata": {
    "datalore": {
     "hide_input_from_viewers": false,
     "hide_output_from_viewers": false,
     "type": "MD"
    }
   },
   "source": [
    "*What does this score tell us about our data?*\n",
    "\n",
    "*What thoughts do you have about how people on Twitter feel about Stranger Things in general?*"
   ]
  },
  {
   "attachments": {
    "./swn.png": {
     "image/png": "[encoded data removed]"
    }
   },
   "cell_type": "markdown",
   "metadata": {
    "datalore": {
     "hide_input_from_viewers": false,
     "hide_output_from_viewers": false,
     "type": "MD"
    }
   },
   "source": [
    "#### Optional Exercise:  \n",
    "\n",
    "`SentiWordNet` is a lexical resource for opinion mining. SentiWordNet assigns to each set of WordNet three sentiment scores: positivity, negativity, objectivity.\n",
    "\n",
    "![](attachment:./swn.png)\n",
    "\n",
    "`VADER` (Valence Aware Dictionary and Sentiment Reasoner) is a lexicon and rule-based sentiment analysis tool that is specifically attuned to sentiments expressed in social media.\n",
    "\n",
    "It takes in a sentence and returns a dictionary of four values: \n",
    "\n",
    "- negative\n",
    "- neutral\n",
    "- positive\n",
    "- compound (computed by normalizing the scores above)\n",
    "\n",
    "Let's see what values SentiWordNet and VADER come up with."
   ]
  },
  {
   "cell_type": "code",
   "execution_count": 119,
   "metadata": {
    "datalore": {
     "hide_input_from_viewers": false,
     "hide_output_from_viewers": false,
     "type": "CODE"
    }
   },
   "outputs": [
    {
     "name": "stderr",
     "output_type": "stream",
     "text": [
      "[nltk_data] Downloading package sentiwordnet to\n",
      "[nltk_data]     /Users/laylabouzoubaa/nltk_data...\n",
      "[nltk_data]   Unzipping corpora/sentiwordnet.zip.\n"
     ]
    },
    {
     "name": "stdout",
     "output_type": "stream",
     "text": [
      "Positive score :  0.25\n",
      "Negative score :  0.5\n",
      "Objective score :  0.25\n"
     ]
    }
   ],
   "source": [
    "# SentiWrodNet\n",
    "# nltk.download('sentiwordnet')\n",
    "from nltk.corpus import sentiwordnet as swn\n",
    "word = list(swn.senti_synsets('excited','a'))[0]\n",
    "print(\"Positive score : \",word.pos_score())\n",
    "print(\"Negative score : \",word.neg_score())\n",
    "print(\"Objective score : \",word.obj_score())"
   ]
  },
  {
   "cell_type": "code",
   "execution_count": null,
   "metadata": {
    "datalore": {
     "hide_input_from_viewers": false,
     "hide_output_from_viewers": false,
     "type": "CODE"
    }
   },
   "outputs": [],
   "source": [
    "# on our tweets"
   ]
  },
  {
   "attachments": {},
   "cell_type": "markdown",
   "metadata": {},
   "source": [
    "VADER"
   ]
  },
  {
   "cell_type": "code",
   "execution_count": 121,
   "metadata": {
    "datalore": {
     "hide_input_from_viewers": false,
     "hide_output_from_viewers": false,
     "type": "CODE"
    }
   },
   "outputs": [
    {
     "name": "stderr",
     "output_type": "stream",
     "text": [
      "[nltk_data] Downloading package vader_lexicon to\n",
      "[nltk_data]     /Users/laylabouzoubaa/nltk_data...\n"
     ]
    }
   ],
   "source": [
    "# nltk.download('vader_lexicon')\n",
    "from nltk.sentiment.vader import SentimentIntensityAnalyzer\n",
    "sid = SentimentIntensityAnalyzer()"
   ]
  },
  {
   "cell_type": "code",
   "execution_count": 122,
   "metadata": {
    "datalore": {
     "hide_input_from_viewers": false,
     "hide_output_from_viewers": false,
     "type": "CODE"
    }
   },
   "outputs": [
    {
     "data": {
      "text/plain": [
       "{'neg': 0.0, 'neu': 0.323, 'pos': 0.677, 'compound': 0.6369}"
      ]
     },
     "execution_count": 122,
     "metadata": {},
     "output_type": "execute_result"
    }
   ],
   "source": [
    "b = 'i love cats #catmama'\n",
    "sid.polarity_scores(b)"
   ]
  },
  {
   "cell_type": "code",
   "execution_count": null,
   "metadata": {
    "datalore": {
     "hide_input_from_viewers": false,
     "hide_output_from_viewers": false,
     "type": "CODE"
    }
   },
   "outputs": [],
   "source": [
    "# on our tweets"
   ]
  },
  {
   "attachments": {},
   "cell_type": "markdown",
   "metadata": {
    "datalore": {
     "hide_input_from_viewers": false,
     "hide_output_from_viewers": false,
     "type": "MD"
    }
   },
   "source": [
    "---\n",
    "\n",
    "### 4. Supervised Sentiment Analysis\n",
    "\n",
    "\n",
    "We can train a classifier to categorize texts into a variety of sentiments. In order to train this classifier, we would need to feed the algorithm the correct sentiments (sources of truth) so that it can learn the patterns to then classify text without sentiment values (unlabeled).\n",
    "\n",
    "For simplicity we will build a *binary classifier* to associate tweets with a positive or a negative sentiment. \n",
    "We will need to split the dataset into two parts. The purpose of the first part is to build the model, whereas the next part tests the performance of the model."
   ]
  },
  {
   "cell_type": "code",
   "execution_count": 124,
   "metadata": {
    "datalore": {
     "hide_input_from_viewers": false,
     "hide_output_from_viewers": false,
     "type": "CODE"
    }
   },
   "outputs": [
    {
     "data": {
      "text/html": [
       "<div>\n",
       "<style scoped>\n",
       "    .dataframe tbody tr th:only-of-type {\n",
       "        vertical-align: middle;\n",
       "    }\n",
       "\n",
       "    .dataframe tbody tr th {\n",
       "        vertical-align: top;\n",
       "    }\n",
       "\n",
       "    .dataframe thead th {\n",
       "        text-align: right;\n",
       "    }\n",
       "</style>\n",
       "<table border=\"1\" class=\"dataframe\">\n",
       "  <thead>\n",
       "    <tr style=\"text-align: right;\">\n",
       "      <th></th>\n",
       "      <th>tweet_id</th>\n",
       "      <th>airline_sentiment</th>\n",
       "      <th>airline_sentiment_confidence</th>\n",
       "      <th>negativereason</th>\n",
       "      <th>negativereason_confidence</th>\n",
       "      <th>airline</th>\n",
       "      <th>airline_sentiment_gold</th>\n",
       "      <th>name</th>\n",
       "      <th>negativereason_gold</th>\n",
       "      <th>retweet_count</th>\n",
       "      <th>text</th>\n",
       "      <th>tweet_coord</th>\n",
       "      <th>tweet_created</th>\n",
       "      <th>tweet_location</th>\n",
       "      <th>user_timezone</th>\n",
       "    </tr>\n",
       "  </thead>\n",
       "  <tbody>\n",
       "    <tr>\n",
       "      <th>0</th>\n",
       "      <td>570306133677760513</td>\n",
       "      <td>neutral</td>\n",
       "      <td>1.0000</td>\n",
       "      <td>NaN</td>\n",
       "      <td>NaN</td>\n",
       "      <td>Virgin America</td>\n",
       "      <td>NaN</td>\n",
       "      <td>cairdin</td>\n",
       "      <td>NaN</td>\n",
       "      <td>0</td>\n",
       "      <td>@VirginAmerica What @dhepburn said.</td>\n",
       "      <td>NaN</td>\n",
       "      <td>2015-02-24 11:35:52 -0800</td>\n",
       "      <td>NaN</td>\n",
       "      <td>Eastern Time (US &amp; Canada)</td>\n",
       "    </tr>\n",
       "    <tr>\n",
       "      <th>1</th>\n",
       "      <td>570301130888122368</td>\n",
       "      <td>positive</td>\n",
       "      <td>0.3486</td>\n",
       "      <td>NaN</td>\n",
       "      <td>0.0000</td>\n",
       "      <td>Virgin America</td>\n",
       "      <td>NaN</td>\n",
       "      <td>jnardino</td>\n",
       "      <td>NaN</td>\n",
       "      <td>0</td>\n",
       "      <td>@VirginAmerica plus you've added commercials t...</td>\n",
       "      <td>NaN</td>\n",
       "      <td>2015-02-24 11:15:59 -0800</td>\n",
       "      <td>NaN</td>\n",
       "      <td>Pacific Time (US &amp; Canada)</td>\n",
       "    </tr>\n",
       "    <tr>\n",
       "      <th>2</th>\n",
       "      <td>570301083672813571</td>\n",
       "      <td>neutral</td>\n",
       "      <td>0.6837</td>\n",
       "      <td>NaN</td>\n",
       "      <td>NaN</td>\n",
       "      <td>Virgin America</td>\n",
       "      <td>NaN</td>\n",
       "      <td>yvonnalynn</td>\n",
       "      <td>NaN</td>\n",
       "      <td>0</td>\n",
       "      <td>@VirginAmerica I didn't today... Must mean I n...</td>\n",
       "      <td>NaN</td>\n",
       "      <td>2015-02-24 11:15:48 -0800</td>\n",
       "      <td>Lets Play</td>\n",
       "      <td>Central Time (US &amp; Canada)</td>\n",
       "    </tr>\n",
       "    <tr>\n",
       "      <th>3</th>\n",
       "      <td>570301031407624196</td>\n",
       "      <td>negative</td>\n",
       "      <td>1.0000</td>\n",
       "      <td>Bad Flight</td>\n",
       "      <td>0.7033</td>\n",
       "      <td>Virgin America</td>\n",
       "      <td>NaN</td>\n",
       "      <td>jnardino</td>\n",
       "      <td>NaN</td>\n",
       "      <td>0</td>\n",
       "      <td>@VirginAmerica it's really aggressive to blast...</td>\n",
       "      <td>NaN</td>\n",
       "      <td>2015-02-24 11:15:36 -0800</td>\n",
       "      <td>NaN</td>\n",
       "      <td>Pacific Time (US &amp; Canada)</td>\n",
       "    </tr>\n",
       "    <tr>\n",
       "      <th>4</th>\n",
       "      <td>570300817074462722</td>\n",
       "      <td>negative</td>\n",
       "      <td>1.0000</td>\n",
       "      <td>Can't Tell</td>\n",
       "      <td>1.0000</td>\n",
       "      <td>Virgin America</td>\n",
       "      <td>NaN</td>\n",
       "      <td>jnardino</td>\n",
       "      <td>NaN</td>\n",
       "      <td>0</td>\n",
       "      <td>@VirginAmerica and it's a really big bad thing...</td>\n",
       "      <td>NaN</td>\n",
       "      <td>2015-02-24 11:14:45 -0800</td>\n",
       "      <td>NaN</td>\n",
       "      <td>Pacific Time (US &amp; Canada)</td>\n",
       "    </tr>\n",
       "  </tbody>\n",
       "</table>\n",
       "</div>"
      ],
      "text/plain": [
       "             tweet_id airline_sentiment  airline_sentiment_confidence  \\\n",
       "0  570306133677760513           neutral                        1.0000   \n",
       "1  570301130888122368          positive                        0.3486   \n",
       "2  570301083672813571           neutral                        0.6837   \n",
       "3  570301031407624196          negative                        1.0000   \n",
       "4  570300817074462722          negative                        1.0000   \n",
       "\n",
       "  negativereason  negativereason_confidence         airline  \\\n",
       "0            NaN                        NaN  Virgin America   \n",
       "1            NaN                     0.0000  Virgin America   \n",
       "2            NaN                        NaN  Virgin America   \n",
       "3     Bad Flight                     0.7033  Virgin America   \n",
       "4     Can't Tell                     1.0000  Virgin America   \n",
       "\n",
       "  airline_sentiment_gold        name negativereason_gold  retweet_count  \\\n",
       "0                    NaN     cairdin                 NaN              0   \n",
       "1                    NaN    jnardino                 NaN              0   \n",
       "2                    NaN  yvonnalynn                 NaN              0   \n",
       "3                    NaN    jnardino                 NaN              0   \n",
       "4                    NaN    jnardino                 NaN              0   \n",
       "\n",
       "                                                text tweet_coord  \\\n",
       "0                @VirginAmerica What @dhepburn said.         NaN   \n",
       "1  @VirginAmerica plus you've added commercials t...         NaN   \n",
       "2  @VirginAmerica I didn't today... Must mean I n...         NaN   \n",
       "3  @VirginAmerica it's really aggressive to blast...         NaN   \n",
       "4  @VirginAmerica and it's a really big bad thing...         NaN   \n",
       "\n",
       "               tweet_created tweet_location               user_timezone  \n",
       "0  2015-02-24 11:35:52 -0800            NaN  Eastern Time (US & Canada)  \n",
       "1  2015-02-24 11:15:59 -0800            NaN  Pacific Time (US & Canada)  \n",
       "2  2015-02-24 11:15:48 -0800      Lets Play  Central Time (US & Canada)  \n",
       "3  2015-02-24 11:15:36 -0800            NaN  Pacific Time (US & Canada)  \n",
       "4  2015-02-24 11:14:45 -0800            NaN  Pacific Time (US & Canada)  "
      ]
     },
     "execution_count": 124,
     "metadata": {},
     "output_type": "execute_result"
    }
   ],
   "source": [
    "# tweets about airline performance\n",
    "\n",
    "airline = pd.read_csv('Tweets.csv')\n",
    "airline.head()"
   ]
  },
  {
   "cell_type": "code",
   "execution_count": 125,
   "metadata": {
    "datalore": {
     "hide_input_from_viewers": false,
     "hide_output_from_viewers": false,
     "type": "CODE"
    }
   },
   "outputs": [
    {
     "name": "stdout",
     "output_type": "stream",
     "text": [
      "<class 'pandas.core.frame.DataFrame'>\n",
      "RangeIndex: 14640 entries, 0 to 14639\n",
      "Data columns (total 15 columns):\n",
      " #   Column                        Non-Null Count  Dtype  \n",
      "---  ------                        --------------  -----  \n",
      " 0   tweet_id                      14640 non-null  int64  \n",
      " 1   airline_sentiment             14640 non-null  object \n",
      " 2   airline_sentiment_confidence  14640 non-null  float64\n",
      " 3   negativereason                9178 non-null   object \n",
      " 4   negativereason_confidence     10522 non-null  float64\n",
      " 5   airline                       14640 non-null  object \n",
      " 6   airline_sentiment_gold        40 non-null     object \n",
      " 7   name                          14640 non-null  object \n",
      " 8   negativereason_gold           32 non-null     object \n",
      " 9   retweet_count                 14640 non-null  int64  \n",
      " 10  text                          14640 non-null  object \n",
      " 11  tweet_coord                   1019 non-null   object \n",
      " 12  tweet_created                 14640 non-null  object \n",
      " 13  tweet_location                9907 non-null   object \n",
      " 14  user_timezone                 9820 non-null   object \n",
      "dtypes: float64(2), int64(2), object(11)\n",
      "memory usage: 1.7+ MB\n"
     ]
    }
   ],
   "source": [
    "airline.info()"
   ]
  },
  {
   "cell_type": "code",
   "execution_count": 126,
   "metadata": {
    "datalore": {
     "hide_input_from_viewers": false,
     "hide_output_from_viewers": false,
     "type": "CODE"
    }
   },
   "outputs": [
    {
     "data": {
      "text/plain": [
       "array(['neutral', 'positive', 'negative'], dtype=object)"
      ]
     },
     "execution_count": 126,
     "metadata": {},
     "output_type": "execute_result"
    }
   ],
   "source": [
    "# get values of sentiment\n",
    "airline['airline_sentiment'].unique()"
   ]
  },
  {
   "cell_type": "code",
   "execution_count": 127,
   "metadata": {
    "datalore": {
     "hide_input_from_viewers": false,
     "hide_output_from_viewers": false,
     "type": "CODE"
    }
   },
   "outputs": [],
   "source": [
    "# for the sake of this exercise, we will only keep positive or negative tweets\n",
    "airline = airline[airline['airline_sentiment'] != 'neutral']"
   ]
  },
  {
   "attachments": {},
   "cell_type": "markdown",
   "metadata": {
    "datalore": {
     "hide_input_from_viewers": false,
     "hide_output_from_viewers": false,
     "type": "MD"
    }
   },
   "source": [
    "#### 4.1 Pre-process tweets"
   ]
  },
  {
   "cell_type": "code",
   "execution_count": 132,
   "metadata": {
    "datalore": {
     "hide_input_from_viewers": false,
     "hide_output_from_viewers": false,
     "type": "CODE"
    }
   },
   "outputs": [],
   "source": [
    "# this time we will turn on the toknization and lemmatization\n",
    "def process_tweets(tweet):\n",
    "    doc = clean_round1(tweet)\n",
    "    doc = clean_round2(doc)\n",
    "    doc = clean_round3 (doc)\n",
    "    return doc"
   ]
  },
  {
   "cell_type": "code",
   "execution_count": 133,
   "metadata": {
    "datalore": {
     "hide_input_from_viewers": false,
     "hide_output_from_viewers": false,
     "type": "CODE"
    }
   },
   "outputs": [],
   "source": [
    "airline['clean_tweet'] = airline['text'].apply(process_tweets)"
   ]
  },
  {
   "cell_type": "code",
   "execution_count": 134,
   "metadata": {},
   "outputs": [
    {
     "data": {
      "text/plain": [
       "1     plus you have added commercials to the experi...\n",
       "3     its really aggressive to blast obnoxious ente...\n",
       "4              and its a really big bad thing about it\n",
       "5     seriously would pay  a flight for seats that ...\n",
       "6     yes nearly every time i fly vx this ear worm ...\n",
       "Name: clean_tweet, dtype: object"
      ]
     },
     "execution_count": 134,
     "metadata": {},
     "output_type": "execute_result"
    }
   ],
   "source": [
    "airline['clean_tweet'][0:5]"
   ]
  },
  {
   "attachments": {},
   "cell_type": "markdown",
   "metadata": {
    "datalore": {
     "hide_input_from_viewers": false,
     "hide_output_from_viewers": false,
     "type": "MD"
    }
   },
   "source": [
    "For this analysis, we will train a Naive Bayes classifier. NB is one of the simplest and fastest text classification algorithms that is commonly used for tasks like sentiment analysis, spam filtering, or recommendations. [Learn more about NB](https://www.kdnuggets.com/2020/06/naive-bayes-algorithm-everything.html)"
   ]
  },
  {
   "cell_type": "code",
   "execution_count": 140,
   "metadata": {
    "datalore": {
     "hide_input_from_viewers": false,
     "hide_output_from_viewers": false,
     "type": "CODE"
    }
   },
   "outputs": [],
   "source": [
    "# Split into training and testing data\n",
    "from sklearn.model_selection import train_test_split\n",
    "from sklearn.feature_extraction.text import CountVectorizer\n",
    "\n",
    "x_train, x_test, y_train, y_test = train_test_split(airline['clean_tweet'], airline['airline_sentiment'], stratify= airline['airline_sentiment'], test_size=0.25, random_state=2022)"
   ]
  },
  {
   "cell_type": "code",
   "execution_count": 144,
   "metadata": {
    "datalore": {
     "hide_input_from_viewers": false,
     "hide_output_from_viewers": false,
     "type": "CODE"
    }
   },
   "outputs": [],
   "source": [
    "# Vectorize text reviews to numbers\n",
    "vec = CountVectorizer(stop_words='english')\n",
    "x_train = vec.fit_transform(x_train).toarray()\n",
    "x_test = vec.transform(x_test).toarray()"
   ]
  },
  {
   "cell_type": "code",
   "execution_count": 145,
   "metadata": {
    "datalore": {
     "hide_input_from_viewers": false,
     "hide_output_from_viewers": false,
     "type": "CODE"
    }
   },
   "outputs": [
    {
     "data": {
      "text/plain": [
       "MultinomialNB()"
      ]
     },
     "execution_count": 145,
     "metadata": {},
     "output_type": "execute_result"
    }
   ],
   "source": [
    "from sklearn.naive_bayes import MultinomialNB\n",
    "\n",
    "model = MultinomialNB()\n",
    "model.fit(x_train, y_train)"
   ]
  },
  {
   "cell_type": "code",
   "execution_count": 146,
   "metadata": {
    "datalore": {
     "hide_input_from_viewers": false,
     "hide_output_from_viewers": false,
     "type": "CODE"
    }
   },
   "outputs": [
    {
     "data": {
      "text/plain": [
       "0.9012474012474012"
      ]
     },
     "execution_count": 146,
     "metadata": {},
     "output_type": "execute_result"
    }
   ],
   "source": [
    "model.score(x_test, y_test)"
   ]
  },
  {
   "cell_type": "code",
   "execution_count": 147,
   "metadata": {
    "datalore": {
     "hide_input_from_viewers": false,
     "hide_output_from_viewers": false,
     "type": "CODE"
    }
   },
   "outputs": [
    {
     "data": {
      "text/plain": [
       "array(['positive'], dtype='<U8')"
      ]
     },
     "execution_count": 147,
     "metadata": {},
     "output_type": "execute_result"
    }
   ],
   "source": [
    "# let's try it out!\n",
    "\n",
    "model.predict(vec.transform(['stranger things is one of my favorite shows']))"
   ]
  }
 ],
 "metadata": {
  "datalore": {
   "base_environment": "default",
   "computation_mode": "JUPYTER",
   "package_manager": "pip",
   "packages": [
    {
     "name": "langdetect",
     "source": "PIP"
    }
   ],
   "version": 1
  },
  "kernelspec": {
   "display_name": "Python 3.8.3 64-bit",
   "language": "python",
   "name": "python3"
  },
  "language_info": {
   "codemirror_mode": {
    "name": "ipython",
    "version": 3
   },
   "file_extension": ".py",
   "mimetype": "text/x-python",
   "name": "python",
   "nbconvert_exporter": "python",
   "pygments_lexer": "ipython3",
   "version": "3.10.9"
  },
  "vscode": {
   "interpreter": {
    "hash": "aee8b7b246df8f9039afb4144a1f6fd8d2ca17a180786b69acc140d282b71a49"
   }
  }
 },
 "nbformat": 4,
 "nbformat_minor": 4
}
